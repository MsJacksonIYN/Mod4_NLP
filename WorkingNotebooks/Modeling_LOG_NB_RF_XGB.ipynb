{
 "cells": [
  {
   "cell_type": "code",
   "execution_count": 1,
   "metadata": {},
   "outputs": [],
   "source": [
    "import pandas as pd\n",
    "import numpy as np\n",
    "import matplotlib.pyplot as plt\n",
    "import seaborn as sns"
   ]
  },
  {
   "cell_type": "code",
   "execution_count": 2,
   "metadata": {},
   "outputs": [],
   "source": [
    "from sklearn.preprocessing import LabelEncoder\n",
    "from sklearn.ensemble import RandomForestClassifier\n",
    "from sklearn.naive_bayes import MultinomialNB\n",
    "from sklearn.metrics import accuracy_score, confusion_matrix\n",
    "from sklearn.feature_extraction.text import TfidfVectorizer\n",
    "from sklearn.model_selection import train_test_split\n",
    "from sklearn.preprocessing import OneHotEncoder\n"
   ]
  },
  {
   "cell_type": "code",
   "execution_count": 3,
   "metadata": {},
   "outputs": [],
   "source": [
    "from nltk.corpus import stopwords\n",
    "\n",
    "import string"
   ]
  },
  {
   "cell_type": "code",
   "execution_count": 12,
   "metadata": {},
   "outputs": [],
   "source": [
    "import pickle"
   ]
  },
  {
   "cell_type": "code",
   "execution_count": 4,
   "metadata": {},
   "outputs": [],
   "source": [
    "pd.set_option('display.max_columns',500)\n",
    "pd.set_option('display.max_rows',500)"
   ]
  },
  {
   "cell_type": "code",
   "execution_count": 5,
   "metadata": {},
   "outputs": [],
   "source": [
    "df = pd.read_csv('modeling_2.csv', index_col = 'Unnamed: 0')"
   ]
  },
  {
   "cell_type": "code",
   "execution_count": 6,
   "metadata": {},
   "outputs": [
    {
     "data": {
      "text/html": [
       "<div>\n",
       "<style scoped>\n",
       "    .dataframe tbody tr th:only-of-type {\n",
       "        vertical-align: middle;\n",
       "    }\n",
       "\n",
       "    .dataframe tbody tr th {\n",
       "        vertical-align: top;\n",
       "    }\n",
       "\n",
       "    .dataframe thead th {\n",
       "        text-align: right;\n",
       "    }\n",
       "</style>\n",
       "<table border=\"1\" class=\"dataframe\">\n",
       "  <thead>\n",
       "    <tr style=\"text-align: right;\">\n",
       "      <th></th>\n",
       "      <th>name</th>\n",
       "      <th>rating</th>\n",
       "      <th>review_date</th>\n",
       "      <th>reviewer</th>\n",
       "      <th>review_url</th>\n",
       "      <th>neighborhood</th>\n",
       "      <th>review</th>\n",
       "      <th>headline</th>\n",
       "      <th>tokens</th>\n",
       "      <th>vocabulary</th>\n",
       "      <th>area</th>\n",
       "      <th>num_rating</th>\n",
       "      <th>af_avg_pol</th>\n",
       "      <th>af_min_pol</th>\n",
       "      <th>af_max_pol</th>\n",
       "      <th>af_std_pol</th>\n",
       "      <th>headline_sent</th>\n",
       "      <th>amazing</th>\n",
       "      <th>awesome</th>\n",
       "      <th>bastard</th>\n",
       "      <th>breathtaking</th>\n",
       "      <th>brilliant</th>\n",
       "      <th>catastrophic</th>\n",
       "      <th>damned</th>\n",
       "      <th>ecstatic</th>\n",
       "      <th>exuberant</th>\n",
       "      <th>fabulous</th>\n",
       "      <th>fantastic</th>\n",
       "      <th>fraud</th>\n",
       "      <th>fun</th>\n",
       "      <th>funnier</th>\n",
       "      <th>funny</th>\n",
       "      <th>godsend</th>\n",
       "      <th>heavenly</th>\n",
       "      <th>hell</th>\n",
       "      <th>masterpiece</th>\n",
       "      <th>miracle</th>\n",
       "      <th>outstanding</th>\n",
       "      <th>prick</th>\n",
       "      <th>rapturous</th>\n",
       "      <th>rejoice</th>\n",
       "      <th>slut</th>\n",
       "      <th>stunning</th>\n",
       "      <th>superb</th>\n",
       "      <th>supreme</th>\n",
       "      <th>terrific</th>\n",
       "      <th>terrifically</th>\n",
       "      <th>thrilled</th>\n",
       "      <th>torture</th>\n",
       "      <th>tortured</th>\n",
       "      <th>triumph</th>\n",
       "      <th>triumphant</th>\n",
       "      <th>win</th>\n",
       "      <th>winning</th>\n",
       "      <th>wins</th>\n",
       "      <th>wonderful</th>\n",
       "      <th>wonderfully</th>\n",
       "      <th>wow</th>\n",
       "      <th>x0_Frank Bruni</th>\n",
       "      <th>x0_Pete Wells</th>\n",
       "      <th>x0_Sam Sifton</th>\n",
       "      <th>x0_Brooklyn</th>\n",
       "      <th>x0_Downtown</th>\n",
       "      <th>x0_Midtown</th>\n",
       "      <th>x0_Other</th>\n",
       "      <th>x0_Uptown</th>\n",
       "    </tr>\n",
       "  </thead>\n",
       "  <tbody>\n",
       "    <tr>\n",
       "      <th>0</th>\n",
       "      <td>Hanon</td>\n",
       "      <td>★★</td>\n",
       "      <td>2019-05-21</td>\n",
       "      <td>Pete Wells</td>\n",
       "      <td>https://www.nytimes.com/2019/05/21/dining/hano...</td>\n",
       "      <td>Williamsburg</td>\n",
       "      <td>Hanon, a new udon shop in Williamsburg, Brookl...</td>\n",
       "      <td>Udon, Innovated for Your Pleasure</td>\n",
       "      <td>['hanon', 'udon', 'williamsburg', 'brooklyn', ...</td>\n",
       "      <td>416</td>\n",
       "      <td>Brooklyn</td>\n",
       "      <td>2</td>\n",
       "      <td>0.886364</td>\n",
       "      <td>-2.0</td>\n",
       "      <td>6.0</td>\n",
       "      <td>1.654414</td>\n",
       "      <td>3.0</td>\n",
       "      <td>0.0</td>\n",
       "      <td>0.0</td>\n",
       "      <td>0.0</td>\n",
       "      <td>0.0</td>\n",
       "      <td>0.0</td>\n",
       "      <td>0.0</td>\n",
       "      <td>0.0</td>\n",
       "      <td>0.0</td>\n",
       "      <td>0.0</td>\n",
       "      <td>0.0</td>\n",
       "      <td>0.0</td>\n",
       "      <td>0.0</td>\n",
       "      <td>0.0</td>\n",
       "      <td>0.0</td>\n",
       "      <td>0.0</td>\n",
       "      <td>0.0</td>\n",
       "      <td>0.0</td>\n",
       "      <td>0.0</td>\n",
       "      <td>0.0</td>\n",
       "      <td>0.0</td>\n",
       "      <td>0.0</td>\n",
       "      <td>0.0</td>\n",
       "      <td>0.0</td>\n",
       "      <td>0.0</td>\n",
       "      <td>0.0</td>\n",
       "      <td>0.0</td>\n",
       "      <td>0.0</td>\n",
       "      <td>0.0</td>\n",
       "      <td>0.000000</td>\n",
       "      <td>0.0</td>\n",
       "      <td>0.0</td>\n",
       "      <td>0.0</td>\n",
       "      <td>0.0</td>\n",
       "      <td>0.0</td>\n",
       "      <td>0.0</td>\n",
       "      <td>0.0</td>\n",
       "      <td>0.0</td>\n",
       "      <td>0.0</td>\n",
       "      <td>0.000000</td>\n",
       "      <td>0.0</td>\n",
       "      <td>0.0</td>\n",
       "      <td>0.0</td>\n",
       "      <td>1.0</td>\n",
       "      <td>0.0</td>\n",
       "      <td>1.0</td>\n",
       "      <td>0.0</td>\n",
       "      <td>0.0</td>\n",
       "      <td>0.0</td>\n",
       "      <td>0.0</td>\n",
       "    </tr>\n",
       "    <tr>\n",
       "      <th>1</th>\n",
       "      <td>Del Posto</td>\n",
       "      <td>★★★</td>\n",
       "      <td>2019-05-14</td>\n",
       "      <td>Pete Wells</td>\n",
       "      <td>https://www.nytimes.com/2019/05/14/dining/del-...</td>\n",
       "      <td>Chelsea</td>\n",
       "      <td>More than a year ago, I was on the verge of re...</td>\n",
       "      <td>In Del Posto’s New Era, Cuisine and Service Ar...</td>\n",
       "      <td>['ago', 'verge', 'reviewing', 'del', 'posto', ...</td>\n",
       "      <td>605</td>\n",
       "      <td>Midtown</td>\n",
       "      <td>3</td>\n",
       "      <td>0.716216</td>\n",
       "      <td>-6.0</td>\n",
       "      <td>8.0</td>\n",
       "      <td>2.016957</td>\n",
       "      <td>0.0</td>\n",
       "      <td>0.0</td>\n",
       "      <td>0.0</td>\n",
       "      <td>0.0</td>\n",
       "      <td>0.0</td>\n",
       "      <td>0.0</td>\n",
       "      <td>0.0</td>\n",
       "      <td>0.0</td>\n",
       "      <td>0.0</td>\n",
       "      <td>0.0</td>\n",
       "      <td>0.0</td>\n",
       "      <td>0.0</td>\n",
       "      <td>0.0</td>\n",
       "      <td>0.0</td>\n",
       "      <td>0.0</td>\n",
       "      <td>0.0</td>\n",
       "      <td>0.0</td>\n",
       "      <td>0.0</td>\n",
       "      <td>0.0</td>\n",
       "      <td>0.0</td>\n",
       "      <td>0.0</td>\n",
       "      <td>0.0</td>\n",
       "      <td>0.0</td>\n",
       "      <td>0.0</td>\n",
       "      <td>0.0</td>\n",
       "      <td>0.0</td>\n",
       "      <td>0.0</td>\n",
       "      <td>0.0</td>\n",
       "      <td>0.0</td>\n",
       "      <td>0.000000</td>\n",
       "      <td>0.0</td>\n",
       "      <td>0.0</td>\n",
       "      <td>0.0</td>\n",
       "      <td>0.0</td>\n",
       "      <td>0.0</td>\n",
       "      <td>0.0</td>\n",
       "      <td>0.0</td>\n",
       "      <td>0.0</td>\n",
       "      <td>0.0</td>\n",
       "      <td>0.018381</td>\n",
       "      <td>0.0</td>\n",
       "      <td>0.0</td>\n",
       "      <td>0.0</td>\n",
       "      <td>1.0</td>\n",
       "      <td>0.0</td>\n",
       "      <td>0.0</td>\n",
       "      <td>0.0</td>\n",
       "      <td>1.0</td>\n",
       "      <td>0.0</td>\n",
       "      <td>0.0</td>\n",
       "    </tr>\n",
       "    <tr>\n",
       "      <th>2</th>\n",
       "      <td>The Freakin Rican</td>\n",
       "      <td>★</td>\n",
       "      <td>2019-05-07</td>\n",
       "      <td>Pete Wells</td>\n",
       "      <td>https://www.nytimes.com/2019/05/07/dining/the-...</td>\n",
       "      <td>Astoria</td>\n",
       "      <td>It is true that the bacalaitos at the Freakin ...</td>\n",
       "      <td>Pasteles and Two Kinds of Fried Chicken at the...</td>\n",
       "      <td>['true', 'bacalaitos', 'freakin', 'rican', 'as...</td>\n",
       "      <td>471</td>\n",
       "      <td>Other</td>\n",
       "      <td>1</td>\n",
       "      <td>0.865385</td>\n",
       "      <td>-2.0</td>\n",
       "      <td>5.0</td>\n",
       "      <td>1.593603</td>\n",
       "      <td>0.0</td>\n",
       "      <td>0.0</td>\n",
       "      <td>0.0</td>\n",
       "      <td>0.0</td>\n",
       "      <td>0.0</td>\n",
       "      <td>0.0</td>\n",
       "      <td>0.0</td>\n",
       "      <td>0.0</td>\n",
       "      <td>0.0</td>\n",
       "      <td>0.0</td>\n",
       "      <td>0.0</td>\n",
       "      <td>0.0</td>\n",
       "      <td>0.0</td>\n",
       "      <td>0.0</td>\n",
       "      <td>0.0</td>\n",
       "      <td>0.0</td>\n",
       "      <td>0.0</td>\n",
       "      <td>0.0</td>\n",
       "      <td>0.0</td>\n",
       "      <td>0.0</td>\n",
       "      <td>0.0</td>\n",
       "      <td>0.0</td>\n",
       "      <td>0.0</td>\n",
       "      <td>0.0</td>\n",
       "      <td>0.0</td>\n",
       "      <td>0.0</td>\n",
       "      <td>0.0</td>\n",
       "      <td>0.0</td>\n",
       "      <td>0.0</td>\n",
       "      <td>0.000000</td>\n",
       "      <td>0.0</td>\n",
       "      <td>0.0</td>\n",
       "      <td>0.0</td>\n",
       "      <td>0.0</td>\n",
       "      <td>0.0</td>\n",
       "      <td>0.0</td>\n",
       "      <td>0.0</td>\n",
       "      <td>0.0</td>\n",
       "      <td>0.0</td>\n",
       "      <td>0.000000</td>\n",
       "      <td>0.0</td>\n",
       "      <td>0.0</td>\n",
       "      <td>0.0</td>\n",
       "      <td>1.0</td>\n",
       "      <td>0.0</td>\n",
       "      <td>0.0</td>\n",
       "      <td>0.0</td>\n",
       "      <td>0.0</td>\n",
       "      <td>1.0</td>\n",
       "      <td>0.0</td>\n",
       "    </tr>\n",
       "    <tr>\n",
       "      <th>3</th>\n",
       "      <td>Wayan</td>\n",
       "      <td>★★</td>\n",
       "      <td>2019-04-23</td>\n",
       "      <td>Pete Wells</td>\n",
       "      <td>https://www.nytimes.com/2019/04/23/dining/waya...</td>\n",
       "      <td>NoLIta</td>\n",
       "      <td>If you ate at Spice Market before it closed tw...</td>\n",
       "      <td>Tapping a Family Connection to Indonesian Food</td>\n",
       "      <td>['spice', 'market', 'closed', 'year', 'ago', '...</td>\n",
       "      <td>426</td>\n",
       "      <td>Downtown</td>\n",
       "      <td>2</td>\n",
       "      <td>0.750000</td>\n",
       "      <td>-4.0</td>\n",
       "      <td>5.0</td>\n",
       "      <td>1.854050</td>\n",
       "      <td>0.0</td>\n",
       "      <td>0.0</td>\n",
       "      <td>0.0</td>\n",
       "      <td>0.0</td>\n",
       "      <td>0.0</td>\n",
       "      <td>0.0</td>\n",
       "      <td>0.0</td>\n",
       "      <td>0.0</td>\n",
       "      <td>0.0</td>\n",
       "      <td>0.0</td>\n",
       "      <td>0.0</td>\n",
       "      <td>0.0</td>\n",
       "      <td>0.0</td>\n",
       "      <td>0.0</td>\n",
       "      <td>0.0</td>\n",
       "      <td>0.0</td>\n",
       "      <td>0.0</td>\n",
       "      <td>0.0</td>\n",
       "      <td>0.0</td>\n",
       "      <td>0.0</td>\n",
       "      <td>0.0</td>\n",
       "      <td>0.0</td>\n",
       "      <td>0.0</td>\n",
       "      <td>0.0</td>\n",
       "      <td>0.0</td>\n",
       "      <td>0.0</td>\n",
       "      <td>0.0</td>\n",
       "      <td>0.0</td>\n",
       "      <td>0.0</td>\n",
       "      <td>0.021714</td>\n",
       "      <td>0.0</td>\n",
       "      <td>0.0</td>\n",
       "      <td>0.0</td>\n",
       "      <td>0.0</td>\n",
       "      <td>0.0</td>\n",
       "      <td>0.0</td>\n",
       "      <td>0.0</td>\n",
       "      <td>0.0</td>\n",
       "      <td>0.0</td>\n",
       "      <td>0.000000</td>\n",
       "      <td>0.0</td>\n",
       "      <td>0.0</td>\n",
       "      <td>0.0</td>\n",
       "      <td>1.0</td>\n",
       "      <td>0.0</td>\n",
       "      <td>0.0</td>\n",
       "      <td>1.0</td>\n",
       "      <td>0.0</td>\n",
       "      <td>0.0</td>\n",
       "      <td>0.0</td>\n",
       "    </tr>\n",
       "    <tr>\n",
       "      <th>4</th>\n",
       "      <td>Niche</td>\n",
       "      <td>★</td>\n",
       "      <td>2019-04-16</td>\n",
       "      <td>Pete Wells</td>\n",
       "      <td>https://www.nytimes.com/2019/04/16/dining/nich...</td>\n",
       "      <td>Lower East Side</td>\n",
       "      <td>In 2012 and 2013, when people were lining up a...</td>\n",
       "      <td>Ramen Without Broth? A Chef Doubles Down on a ...</td>\n",
       "      <td>['people', 'lining', 'smorgasburg', 'houston',...</td>\n",
       "      <td>416</td>\n",
       "      <td>Downtown</td>\n",
       "      <td>1</td>\n",
       "      <td>0.387755</td>\n",
       "      <td>-4.0</td>\n",
       "      <td>4.0</td>\n",
       "      <td>1.536180</td>\n",
       "      <td>0.0</td>\n",
       "      <td>0.0</td>\n",
       "      <td>0.0</td>\n",
       "      <td>0.0</td>\n",
       "      <td>0.0</td>\n",
       "      <td>0.0</td>\n",
       "      <td>0.0</td>\n",
       "      <td>0.0</td>\n",
       "      <td>0.0</td>\n",
       "      <td>0.0</td>\n",
       "      <td>0.0</td>\n",
       "      <td>0.0</td>\n",
       "      <td>0.0</td>\n",
       "      <td>0.0</td>\n",
       "      <td>0.0</td>\n",
       "      <td>0.0</td>\n",
       "      <td>0.0</td>\n",
       "      <td>0.0</td>\n",
       "      <td>0.0</td>\n",
       "      <td>0.0</td>\n",
       "      <td>0.0</td>\n",
       "      <td>0.0</td>\n",
       "      <td>0.0</td>\n",
       "      <td>0.0</td>\n",
       "      <td>0.0</td>\n",
       "      <td>0.0</td>\n",
       "      <td>0.0</td>\n",
       "      <td>0.0</td>\n",
       "      <td>0.0</td>\n",
       "      <td>0.000000</td>\n",
       "      <td>0.0</td>\n",
       "      <td>0.0</td>\n",
       "      <td>0.0</td>\n",
       "      <td>0.0</td>\n",
       "      <td>0.0</td>\n",
       "      <td>0.0</td>\n",
       "      <td>0.0</td>\n",
       "      <td>0.0</td>\n",
       "      <td>0.0</td>\n",
       "      <td>0.000000</td>\n",
       "      <td>0.0</td>\n",
       "      <td>0.0</td>\n",
       "      <td>0.0</td>\n",
       "      <td>1.0</td>\n",
       "      <td>0.0</td>\n",
       "      <td>0.0</td>\n",
       "      <td>1.0</td>\n",
       "      <td>0.0</td>\n",
       "      <td>0.0</td>\n",
       "      <td>0.0</td>\n",
       "    </tr>\n",
       "  </tbody>\n",
       "</table>\n",
       "</div>"
      ],
      "text/plain": [
       "                name rating review_date    reviewer  \\\n",
       "0              Hanon     ★★  2019-05-21  Pete Wells   \n",
       "1          Del Posto    ★★★  2019-05-14  Pete Wells   \n",
       "2  The Freakin Rican      ★  2019-05-07  Pete Wells   \n",
       "3              Wayan     ★★  2019-04-23  Pete Wells   \n",
       "4              Niche      ★  2019-04-16  Pete Wells   \n",
       "\n",
       "                                          review_url     neighborhood  \\\n",
       "0  https://www.nytimes.com/2019/05/21/dining/hano...     Williamsburg   \n",
       "1  https://www.nytimes.com/2019/05/14/dining/del-...          Chelsea   \n",
       "2  https://www.nytimes.com/2019/05/07/dining/the-...          Astoria   \n",
       "3  https://www.nytimes.com/2019/04/23/dining/waya...           NoLIta   \n",
       "4  https://www.nytimes.com/2019/04/16/dining/nich...  Lower East Side   \n",
       "\n",
       "                                              review  \\\n",
       "0  Hanon, a new udon shop in Williamsburg, Brookl...   \n",
       "1  More than a year ago, I was on the verge of re...   \n",
       "2  It is true that the bacalaitos at the Freakin ...   \n",
       "3  If you ate at Spice Market before it closed tw...   \n",
       "4  In 2012 and 2013, when people were lining up a...   \n",
       "\n",
       "                                            headline  \\\n",
       "0                  Udon, Innovated for Your Pleasure   \n",
       "1  In Del Posto’s New Era, Cuisine and Service Ar...   \n",
       "2  Pasteles and Two Kinds of Fried Chicken at the...   \n",
       "3     Tapping a Family Connection to Indonesian Food   \n",
       "4  Ramen Without Broth? A Chef Doubles Down on a ...   \n",
       "\n",
       "                                              tokens  vocabulary      area  \\\n",
       "0  ['hanon', 'udon', 'williamsburg', 'brooklyn', ...         416  Brooklyn   \n",
       "1  ['ago', 'verge', 'reviewing', 'del', 'posto', ...         605   Midtown   \n",
       "2  ['true', 'bacalaitos', 'freakin', 'rican', 'as...         471     Other   \n",
       "3  ['spice', 'market', 'closed', 'year', 'ago', '...         426  Downtown   \n",
       "4  ['people', 'lining', 'smorgasburg', 'houston',...         416  Downtown   \n",
       "\n",
       "   num_rating  af_avg_pol  af_min_pol  af_max_pol  af_std_pol  headline_sent  \\\n",
       "0           2    0.886364        -2.0         6.0    1.654414            3.0   \n",
       "1           3    0.716216        -6.0         8.0    2.016957            0.0   \n",
       "2           1    0.865385        -2.0         5.0    1.593603            0.0   \n",
       "3           2    0.750000        -4.0         5.0    1.854050            0.0   \n",
       "4           1    0.387755        -4.0         4.0    1.536180            0.0   \n",
       "\n",
       "   amazing  awesome  bastard  breathtaking  brilliant  catastrophic  damned  \\\n",
       "0      0.0      0.0      0.0           0.0        0.0           0.0     0.0   \n",
       "1      0.0      0.0      0.0           0.0        0.0           0.0     0.0   \n",
       "2      0.0      0.0      0.0           0.0        0.0           0.0     0.0   \n",
       "3      0.0      0.0      0.0           0.0        0.0           0.0     0.0   \n",
       "4      0.0      0.0      0.0           0.0        0.0           0.0     0.0   \n",
       "\n",
       "   ecstatic  exuberant  fabulous  fantastic  fraud  fun  funnier  funny  \\\n",
       "0       0.0        0.0       0.0        0.0    0.0  0.0      0.0    0.0   \n",
       "1       0.0        0.0       0.0        0.0    0.0  0.0      0.0    0.0   \n",
       "2       0.0        0.0       0.0        0.0    0.0  0.0      0.0    0.0   \n",
       "3       0.0        0.0       0.0        0.0    0.0  0.0      0.0    0.0   \n",
       "4       0.0        0.0       0.0        0.0    0.0  0.0      0.0    0.0   \n",
       "\n",
       "   godsend  heavenly  hell  masterpiece  miracle  outstanding  prick  \\\n",
       "0      0.0       0.0   0.0          0.0      0.0          0.0    0.0   \n",
       "1      0.0       0.0   0.0          0.0      0.0          0.0    0.0   \n",
       "2      0.0       0.0   0.0          0.0      0.0          0.0    0.0   \n",
       "3      0.0       0.0   0.0          0.0      0.0          0.0    0.0   \n",
       "4      0.0       0.0   0.0          0.0      0.0          0.0    0.0   \n",
       "\n",
       "   rapturous  rejoice  slut  stunning  superb  supreme  terrific  \\\n",
       "0        0.0      0.0   0.0       0.0     0.0      0.0  0.000000   \n",
       "1        0.0      0.0   0.0       0.0     0.0      0.0  0.000000   \n",
       "2        0.0      0.0   0.0       0.0     0.0      0.0  0.000000   \n",
       "3        0.0      0.0   0.0       0.0     0.0      0.0  0.021714   \n",
       "4        0.0      0.0   0.0       0.0     0.0      0.0  0.000000   \n",
       "\n",
       "   terrifically  thrilled  torture  tortured  triumph  triumphant  win  \\\n",
       "0           0.0       0.0      0.0       0.0      0.0         0.0  0.0   \n",
       "1           0.0       0.0      0.0       0.0      0.0         0.0  0.0   \n",
       "2           0.0       0.0      0.0       0.0      0.0         0.0  0.0   \n",
       "3           0.0       0.0      0.0       0.0      0.0         0.0  0.0   \n",
       "4           0.0       0.0      0.0       0.0      0.0         0.0  0.0   \n",
       "\n",
       "   winning  wins  wonderful  wonderfully  wow  x0_Frank Bruni  x0_Pete Wells  \\\n",
       "0      0.0   0.0   0.000000          0.0  0.0             0.0            1.0   \n",
       "1      0.0   0.0   0.018381          0.0  0.0             0.0            1.0   \n",
       "2      0.0   0.0   0.000000          0.0  0.0             0.0            1.0   \n",
       "3      0.0   0.0   0.000000          0.0  0.0             0.0            1.0   \n",
       "4      0.0   0.0   0.000000          0.0  0.0             0.0            1.0   \n",
       "\n",
       "   x0_Sam Sifton  x0_Brooklyn  x0_Downtown  x0_Midtown  x0_Other  x0_Uptown  \n",
       "0            0.0          1.0          0.0         0.0       0.0        0.0  \n",
       "1            0.0          0.0          0.0         1.0       0.0        0.0  \n",
       "2            0.0          0.0          0.0         0.0       1.0        0.0  \n",
       "3            0.0          0.0          1.0         0.0       0.0        0.0  \n",
       "4            0.0          0.0          1.0         0.0       0.0        0.0  "
      ]
     },
     "execution_count": 6,
     "metadata": {},
     "output_type": "execute_result"
    }
   ],
   "source": [
    "df.head()"
   ]
  },
  {
   "cell_type": "markdown",
   "metadata": {},
   "source": [
    "# Basline Models with TF-IDF"
   ]
  },
  {
   "cell_type": "code",
   "execution_count": 16,
   "metadata": {},
   "outputs": [],
   "source": [
    "X = df['review']\n",
    "y = df['num_rating']"
   ]
  },
  {
   "cell_type": "markdown",
   "metadata": {},
   "source": [
    "## TF-IDF"
   ]
  },
  {
   "cell_type": "code",
   "execution_count": 8,
   "metadata": {},
   "outputs": [],
   "source": [
    "def tfidf(X, y,  stopwords_list): \n",
    "    '''\n",
    "    Generate train and test TF-IDF vectorization for our data set\n",
    "    \n",
    "    '''\n",
    "    X_train, X_test, y_train, y_test = train_test_split(X, y, random_state=42)\n",
    "    \n",
    "    vec = TfidfVectorizer(stop_words=stopwords_list)\n",
    "    \n",
    "    tf_idf_train = vec.fit_transform(X_train)\n",
    "    tf_idf_test = vec.transform(X_test)\n",
    "    \n",
    "    return tf_idf_train, tf_idf_test, y_train, y_test, vec\n"
   ]
  },
  {
   "cell_type": "code",
   "execution_count": 13,
   "metadata": {},
   "outputs": [],
   "source": [
    "basic_stopwords_list = stopwords.words('english')+ list(string.punctuation)+ list(string.digits)"
   ]
  },
  {
   "cell_type": "code",
   "execution_count": 14,
   "metadata": {},
   "outputs": [],
   "source": [
    "NYT_stoplist = ['follow','nyt','food','twitter','cooking','instagram','facebook','youtube','pinterest',\n",
    "                'recipe','suggestions','tips','shopping','advice','food', 'restaurant','atmosphere','sound','wine',\n",
    "                'list','am','pm', 'daily', 'monday','tuesday','wednesday','thursday','friday','saturday','sunday',\n",
    "                'hours','wheelchair','access', 'street','mr', 'dinner','dishes', 'dish', 'new', 'sauce', 'made', 'mr.', \n",
    "                'room', 'table', 'would', 'new', 'york','menu','one','two','three','ave','came', 'table', 'get', 'year',\n",
    "                'water', 'go', 'along', 'first', 'second', 'restaurant', 'new', 'york', 'cooking', 'shop', 'might', \n",
    "                'also', 'make', 'made', 'food', 'menu', 'meal', 'list', 'dish', 'table', 'dining', 'server', 'room', \n",
    "                'floor','served', 'may', 'want', 'brought', 'night', 'customer', 'said', 'say', 'come', 'dinner', 'le',\n",
    "                'name', 'time', 'chef', '!', 'side', 'day', 'night', 'ate', 'back', 'customers', 'restaurants',\n",
    "                'ingredient', 'cook','dish', 'lunch', 'a.m.', 'p.m.''00','000','0000','0005','0008','0030','0050',\n",
    "                '0082','0101','0105','0200','0220','0233','0242','0271','03','0303','0327', '0350','0404', '05', \n",
    "                '0505', '0553', '0555', '0665', '07', '0808', '0812', '0820', '0905', '0906', '0999','0003', '0012', \n",
    "                '0020', '0033', '0085', '0100', '02','0202', '0211', '0215', '0221', '0228', '0300','0400', '0412', \n",
    "                '0470', '0606', '0700', '08', '0844', '0880', '0955','★','*']\n",
    "\n",
    "numbers_stoplist = [str(x) for x in range(0,99999)]\n"
   ]
  },
  {
   "cell_type": "code",
   "execution_count": 15,
   "metadata": {},
   "outputs": [],
   "source": [
    "stopwords_list = basic_stopwords_list + NYT_stoplist + numbers_stoplist "
   ]
  },
  {
   "cell_type": "code",
   "execution_count": 17,
   "metadata": {},
   "outputs": [],
   "source": [
    "X_train_basic, X_test_basic, y_train_basic, y_test_basic, vec_basic = tfidf(X, y,  basic_stopwords_list)"
   ]
  },
  {
   "cell_type": "code",
   "execution_count": 18,
   "metadata": {},
   "outputs": [
    {
     "name": "stderr",
     "output_type": "stream",
     "text": [
      "/opt/conda/lib/python3.6/site-packages/sklearn/feature_extraction/text.py:300: UserWarning: Your stop_words may be inconsistent with your preprocessing. Tokenizing the stop words generated tokens ['00'] not in stop_words.\n",
      "  'stop_words.' % sorted(inconsistent))\n"
     ]
    }
   ],
   "source": [
    "X_train, X_test, y_train, y_test, vec = tfidf(X, y, stopwords_list)"
   ]
  },
  {
   "cell_type": "markdown",
   "metadata": {},
   "source": [
    "## Basic Classification"
   ]
  },
  {
   "cell_type": "code",
   "execution_count": 90,
   "metadata": {},
   "outputs": [],
   "source": [
    "#create a function that takes in a classifier and trains it on our tf-idf vectors and generates test and train predictiions\n",
    "def classify_text(classifier, X_train, X_test, y_train, y_test):\n",
    "    '''\n",
    "    Train a classifier to identify \n",
    "    \n",
    "    '''\n",
    "    #fit the classifier with our training data\n",
    "    classifier.fit(X_train, y_train)\n",
    "    \n",
    "    #predict the labels of our train data and store them in train_preds\n",
    "    train_preds = classifier.predict(X_train)\n",
    "\n",
    "    #predict the labels of our test data and store them in test_preds\n",
    "    test_preds = classifier.predict(X_test)\n",
    "    \n",
    "    print('Training accuracy: ', accuracy_score(y_train, train_preds))\n",
    "    print('Testing accuracy: ', accuracy_score(y_test, test_preds))\n",
    "    \n",
    "    cm_nb = confusion_matrix(y_test, test_preds)\n",
    "    plt.figure(figsize = (6, 6))\n",
    "    plt.title(classifier)\n",
    "    \n",
    "    return sns.heatmap(cm_nb, annot = True, fmt = \".3f\", linewidths = .5, square = True, cmap = \"YlGnBu\"), plt.xlabel('Predicted Label'),plt.ylabel('True Label')\n"
   ]
  },
  {
   "cell_type": "markdown",
   "metadata": {},
   "source": [
    "### Naive Bayes"
   ]
  },
  {
   "cell_type": "code",
   "execution_count": 21,
   "metadata": {},
   "outputs": [],
   "source": [
    "nb_basic = MultinomialNB()\n",
    "nb = MultinomialNB()"
   ]
  },
  {
   "cell_type": "code",
   "execution_count": 93,
   "metadata": {},
   "outputs": [
    {
     "name": "stdout",
     "output_type": "stream",
     "text": [
      "Training accuracy:  0.8091106290672451\n",
      "Testing accuracy:  0.4805194805194805\n"
     ]
    },
    {
     "data": {
      "image/png": "[encoded data removed]",
      "text/plain": [
       "<matplotlib.figure.Figure at 0x7f3449a68978>"
      ]
     },
     "metadata": {},
     "output_type": "display_data"
    }
   ],
   "source": [
    "classify_text(nb_basic, X_train_basic, X_test_basic, y_train_basic, y_test_basic);"
   ]
  },
  {
   "cell_type": "code",
   "execution_count": 94,
   "metadata": {},
   "outputs": [
    {
     "name": "stdout",
     "output_type": "stream",
     "text": [
      "Training accuracy:  0.8091106290672451\n",
      "Testing accuracy:  0.4805194805194805\n"
     ]
    },
    {
     "data": {
      "image/png": "[encoded data removed]",
      "text/plain": [
       "<matplotlib.figure.Figure at 0x7f3449b2d048>"
      ]
     },
     "metadata": {},
     "output_type": "display_data"
    }
   ],
   "source": [
    "classify_text(nb, X_train, X_test, y_train, y_test);"
   ]
  },
  {
   "cell_type": "markdown",
   "metadata": {},
   "source": [
    "### Random Forrest"
   ]
  },
  {
   "cell_type": "code",
   "execution_count": 62,
   "metadata": {},
   "outputs": [],
   "source": [
    "rf_basic = RandomForestClassifier(n_estimators=100)\n",
    "rf = RandomForestClassifier(n_estimators=100)"
   ]
  },
  {
   "cell_type": "code",
   "execution_count": 91,
   "metadata": {},
   "outputs": [
    {
     "name": "stdout",
     "output_type": "stream",
     "text": [
      "Training accuracy:  1.0\n",
      "Testing accuracy:  0.45454545454545453\n"
     ]
    },
    {
     "data": {
      "image/png": "[encoded data removed]",
      "text/plain": [
       "<matplotlib.figure.Figure at 0x7f3449944278>"
      ]
     },
     "metadata": {},
     "output_type": "display_data"
    }
   ],
   "source": [
    "classify_text(rf_basic, X_train_basic, X_test_basic, y_train_basic, y_test_basic);"
   ]
  },
  {
   "cell_type": "code",
   "execution_count": 92,
   "metadata": {},
   "outputs": [
    {
     "name": "stdout",
     "output_type": "stream",
     "text": [
      "Training accuracy:  1.0\n",
      "Testing accuracy:  0.43506493506493504\n"
     ]
    },
    {
     "data": {
      "image/png": "[encoded data removed]",
      "text/plain": [
       "<matplotlib.figure.Figure at 0x7f344a1fb7f0>"
      ]
     },
     "metadata": {},
     "output_type": "display_data"
    }
   ],
   "source": [
    "classify_text(rf, X_train, X_test, y_train, y_test);"
   ]
  },
  {
   "cell_type": "markdown",
   "metadata": {},
   "source": [
    "# Classification Models"
   ]
  },
  {
   "cell_type": "markdown",
   "metadata": {},
   "source": [
    "## Creating interactions"
   ]
  },
  {
   "cell_type": "code",
   "execution_count": 7,
   "metadata": {},
   "outputs": [],
   "source": [
    " #Interactions with reviewer and Afinn Avg Polarity\n",
    "df['x0_Frank Bruni_X_af_avg_pol'] = df['x0_Frank Bruni'] * df['af_avg_pol']\n",
    "df['x0_Sam Sifton_X_af_avg_pol'] = df['x0_Sam Sifton'] * df['af_avg_pol']\n",
    "df['x0_Pete Wells_X_af_avg_pol'] = df['x0_Pete Wells'] * df['af_avg_pol']\n",
    "\n",
    " #Interactions with 'vocabulary'\n",
    "df['x0_Frank Bruni_X_vocab'] = df['x0_Frank Bruni'] * df['vocabulary']\n",
    "df['x0_Sam Sifton_X_vocab'] = df['x0_Sam Sifton'] * df['vocabulary']\n",
    "df['x0_Pete Wells_X_vocab'] = df['x0_Pete Wells'] * df['vocabulary']"
   ]
  },
  {
   "cell_type": "code",
   "execution_count": 8,
   "metadata": {},
   "outputs": [],
   "source": [
    "modeling_df = df.drop(['name', 'rating', 'review_date', 'reviewer', 'review_url',\n",
    "       'neighborhood', 'review', 'headline', 'tokens', 'area','af_min_pol', 'af_max_pol'], axis=1).copy()"
   ]
  },
  {
   "cell_type": "code",
   "execution_count": 9,
   "metadata": {
    "collapsed": true
   },
   "outputs": [
    {
     "data": {
      "text/html": [
       "<div>\n",
       "<style scoped>\n",
       "    .dataframe tbody tr th:only-of-type {\n",
       "        vertical-align: middle;\n",
       "    }\n",
       "\n",
       "    .dataframe tbody tr th {\n",
       "        vertical-align: top;\n",
       "    }\n",
       "\n",
       "    .dataframe thead th {\n",
       "        text-align: right;\n",
       "    }\n",
       "</style>\n",
       "<table border=\"1\" class=\"dataframe\">\n",
       "  <thead>\n",
       "    <tr style=\"text-align: right;\">\n",
       "      <th></th>\n",
       "      <th>vocabulary</th>\n",
       "      <th>num_rating</th>\n",
       "      <th>af_avg_pol</th>\n",
       "      <th>af_std_pol</th>\n",
       "      <th>headline_sent</th>\n",
       "      <th>amazing</th>\n",
       "      <th>awesome</th>\n",
       "      <th>bastard</th>\n",
       "      <th>breathtaking</th>\n",
       "      <th>brilliant</th>\n",
       "      <th>catastrophic</th>\n",
       "      <th>damned</th>\n",
       "      <th>ecstatic</th>\n",
       "      <th>exuberant</th>\n",
       "      <th>fabulous</th>\n",
       "      <th>fantastic</th>\n",
       "      <th>fraud</th>\n",
       "      <th>fun</th>\n",
       "      <th>funnier</th>\n",
       "      <th>funny</th>\n",
       "      <th>godsend</th>\n",
       "      <th>heavenly</th>\n",
       "      <th>hell</th>\n",
       "      <th>masterpiece</th>\n",
       "      <th>miracle</th>\n",
       "      <th>outstanding</th>\n",
       "      <th>prick</th>\n",
       "      <th>rapturous</th>\n",
       "      <th>rejoice</th>\n",
       "      <th>slut</th>\n",
       "      <th>stunning</th>\n",
       "      <th>superb</th>\n",
       "      <th>supreme</th>\n",
       "      <th>terrific</th>\n",
       "      <th>terrifically</th>\n",
       "      <th>thrilled</th>\n",
       "      <th>torture</th>\n",
       "      <th>tortured</th>\n",
       "      <th>triumph</th>\n",
       "      <th>triumphant</th>\n",
       "      <th>win</th>\n",
       "      <th>winning</th>\n",
       "      <th>wins</th>\n",
       "      <th>wonderful</th>\n",
       "      <th>wonderfully</th>\n",
       "      <th>wow</th>\n",
       "      <th>x0_Frank Bruni</th>\n",
       "      <th>x0_Pete Wells</th>\n",
       "      <th>x0_Sam Sifton</th>\n",
       "      <th>x0_Brooklyn</th>\n",
       "      <th>x0_Downtown</th>\n",
       "      <th>x0_Midtown</th>\n",
       "      <th>x0_Other</th>\n",
       "      <th>x0_Uptown</th>\n",
       "      <th>x0_Frank Bruni_X_af_avg_pol</th>\n",
       "      <th>x0_Sam Sifton_X_af_avg_pol</th>\n",
       "      <th>x0_Pete Wells_X_af_avg_pol</th>\n",
       "      <th>x0_Frank Bruni_X_vocab</th>\n",
       "      <th>x0_Sam Sifton_X_vocab</th>\n",
       "      <th>x0_Pete Wells_X_vocab</th>\n",
       "    </tr>\n",
       "  </thead>\n",
       "  <tbody>\n",
       "    <tr>\n",
       "      <th>0</th>\n",
       "      <td>416</td>\n",
       "      <td>2</td>\n",
       "      <td>0.886364</td>\n",
       "      <td>1.654414</td>\n",
       "      <td>3.0</td>\n",
       "      <td>0.0</td>\n",
       "      <td>0.0</td>\n",
       "      <td>0.0</td>\n",
       "      <td>0.0</td>\n",
       "      <td>0.0</td>\n",
       "      <td>0.0</td>\n",
       "      <td>0.0</td>\n",
       "      <td>0.0</td>\n",
       "      <td>0.0</td>\n",
       "      <td>0.0</td>\n",
       "      <td>0.0</td>\n",
       "      <td>0.0</td>\n",
       "      <td>0.0</td>\n",
       "      <td>0.0</td>\n",
       "      <td>0.0</td>\n",
       "      <td>0.0</td>\n",
       "      <td>0.0</td>\n",
       "      <td>0.0</td>\n",
       "      <td>0.0</td>\n",
       "      <td>0.0</td>\n",
       "      <td>0.0</td>\n",
       "      <td>0.0</td>\n",
       "      <td>0.0</td>\n",
       "      <td>0.0</td>\n",
       "      <td>0.0</td>\n",
       "      <td>0.0</td>\n",
       "      <td>0.0</td>\n",
       "      <td>0.0</td>\n",
       "      <td>0.000000</td>\n",
       "      <td>0.0</td>\n",
       "      <td>0.0</td>\n",
       "      <td>0.0</td>\n",
       "      <td>0.0</td>\n",
       "      <td>0.0</td>\n",
       "      <td>0.0</td>\n",
       "      <td>0.0</td>\n",
       "      <td>0.0</td>\n",
       "      <td>0.0</td>\n",
       "      <td>0.000000</td>\n",
       "      <td>0.0</td>\n",
       "      <td>0.0</td>\n",
       "      <td>0.0</td>\n",
       "      <td>1.0</td>\n",
       "      <td>0.0</td>\n",
       "      <td>1.0</td>\n",
       "      <td>0.0</td>\n",
       "      <td>0.0</td>\n",
       "      <td>0.0</td>\n",
       "      <td>0.0</td>\n",
       "      <td>0.0</td>\n",
       "      <td>0.0</td>\n",
       "      <td>0.886364</td>\n",
       "      <td>0.0</td>\n",
       "      <td>0.0</td>\n",
       "      <td>416.0</td>\n",
       "    </tr>\n",
       "    <tr>\n",
       "      <th>1</th>\n",
       "      <td>605</td>\n",
       "      <td>3</td>\n",
       "      <td>0.716216</td>\n",
       "      <td>2.016957</td>\n",
       "      <td>0.0</td>\n",
       "      <td>0.0</td>\n",
       "      <td>0.0</td>\n",
       "      <td>0.0</td>\n",
       "      <td>0.0</td>\n",
       "      <td>0.0</td>\n",
       "      <td>0.0</td>\n",
       "      <td>0.0</td>\n",
       "      <td>0.0</td>\n",
       "      <td>0.0</td>\n",
       "      <td>0.0</td>\n",
       "      <td>0.0</td>\n",
       "      <td>0.0</td>\n",
       "      <td>0.0</td>\n",
       "      <td>0.0</td>\n",
       "      <td>0.0</td>\n",
       "      <td>0.0</td>\n",
       "      <td>0.0</td>\n",
       "      <td>0.0</td>\n",
       "      <td>0.0</td>\n",
       "      <td>0.0</td>\n",
       "      <td>0.0</td>\n",
       "      <td>0.0</td>\n",
       "      <td>0.0</td>\n",
       "      <td>0.0</td>\n",
       "      <td>0.0</td>\n",
       "      <td>0.0</td>\n",
       "      <td>0.0</td>\n",
       "      <td>0.0</td>\n",
       "      <td>0.000000</td>\n",
       "      <td>0.0</td>\n",
       "      <td>0.0</td>\n",
       "      <td>0.0</td>\n",
       "      <td>0.0</td>\n",
       "      <td>0.0</td>\n",
       "      <td>0.0</td>\n",
       "      <td>0.0</td>\n",
       "      <td>0.0</td>\n",
       "      <td>0.0</td>\n",
       "      <td>0.018381</td>\n",
       "      <td>0.0</td>\n",
       "      <td>0.0</td>\n",
       "      <td>0.0</td>\n",
       "      <td>1.0</td>\n",
       "      <td>0.0</td>\n",
       "      <td>0.0</td>\n",
       "      <td>0.0</td>\n",
       "      <td>1.0</td>\n",
       "      <td>0.0</td>\n",
       "      <td>0.0</td>\n",
       "      <td>0.0</td>\n",
       "      <td>0.0</td>\n",
       "      <td>0.716216</td>\n",
       "      <td>0.0</td>\n",
       "      <td>0.0</td>\n",
       "      <td>605.0</td>\n",
       "    </tr>\n",
       "    <tr>\n",
       "      <th>2</th>\n",
       "      <td>471</td>\n",
       "      <td>1</td>\n",
       "      <td>0.865385</td>\n",
       "      <td>1.593603</td>\n",
       "      <td>0.0</td>\n",
       "      <td>0.0</td>\n",
       "      <td>0.0</td>\n",
       "      <td>0.0</td>\n",
       "      <td>0.0</td>\n",
       "      <td>0.0</td>\n",
       "      <td>0.0</td>\n",
       "      <td>0.0</td>\n",
       "      <td>0.0</td>\n",
       "      <td>0.0</td>\n",
       "      <td>0.0</td>\n",
       "      <td>0.0</td>\n",
       "      <td>0.0</td>\n",
       "      <td>0.0</td>\n",
       "      <td>0.0</td>\n",
       "      <td>0.0</td>\n",
       "      <td>0.0</td>\n",
       "      <td>0.0</td>\n",
       "      <td>0.0</td>\n",
       "      <td>0.0</td>\n",
       "      <td>0.0</td>\n",
       "      <td>0.0</td>\n",
       "      <td>0.0</td>\n",
       "      <td>0.0</td>\n",
       "      <td>0.0</td>\n",
       "      <td>0.0</td>\n",
       "      <td>0.0</td>\n",
       "      <td>0.0</td>\n",
       "      <td>0.0</td>\n",
       "      <td>0.000000</td>\n",
       "      <td>0.0</td>\n",
       "      <td>0.0</td>\n",
       "      <td>0.0</td>\n",
       "      <td>0.0</td>\n",
       "      <td>0.0</td>\n",
       "      <td>0.0</td>\n",
       "      <td>0.0</td>\n",
       "      <td>0.0</td>\n",
       "      <td>0.0</td>\n",
       "      <td>0.000000</td>\n",
       "      <td>0.0</td>\n",
       "      <td>0.0</td>\n",
       "      <td>0.0</td>\n",
       "      <td>1.0</td>\n",
       "      <td>0.0</td>\n",
       "      <td>0.0</td>\n",
       "      <td>0.0</td>\n",
       "      <td>0.0</td>\n",
       "      <td>1.0</td>\n",
       "      <td>0.0</td>\n",
       "      <td>0.0</td>\n",
       "      <td>0.0</td>\n",
       "      <td>0.865385</td>\n",
       "      <td>0.0</td>\n",
       "      <td>0.0</td>\n",
       "      <td>471.0</td>\n",
       "    </tr>\n",
       "    <tr>\n",
       "      <th>3</th>\n",
       "      <td>426</td>\n",
       "      <td>2</td>\n",
       "      <td>0.750000</td>\n",
       "      <td>1.854050</td>\n",
       "      <td>0.0</td>\n",
       "      <td>0.0</td>\n",
       "      <td>0.0</td>\n",
       "      <td>0.0</td>\n",
       "      <td>0.0</td>\n",
       "      <td>0.0</td>\n",
       "      <td>0.0</td>\n",
       "      <td>0.0</td>\n",
       "      <td>0.0</td>\n",
       "      <td>0.0</td>\n",
       "      <td>0.0</td>\n",
       "      <td>0.0</td>\n",
       "      <td>0.0</td>\n",
       "      <td>0.0</td>\n",
       "      <td>0.0</td>\n",
       "      <td>0.0</td>\n",
       "      <td>0.0</td>\n",
       "      <td>0.0</td>\n",
       "      <td>0.0</td>\n",
       "      <td>0.0</td>\n",
       "      <td>0.0</td>\n",
       "      <td>0.0</td>\n",
       "      <td>0.0</td>\n",
       "      <td>0.0</td>\n",
       "      <td>0.0</td>\n",
       "      <td>0.0</td>\n",
       "      <td>0.0</td>\n",
       "      <td>0.0</td>\n",
       "      <td>0.0</td>\n",
       "      <td>0.021714</td>\n",
       "      <td>0.0</td>\n",
       "      <td>0.0</td>\n",
       "      <td>0.0</td>\n",
       "      <td>0.0</td>\n",
       "      <td>0.0</td>\n",
       "      <td>0.0</td>\n",
       "      <td>0.0</td>\n",
       "      <td>0.0</td>\n",
       "      <td>0.0</td>\n",
       "      <td>0.000000</td>\n",
       "      <td>0.0</td>\n",
       "      <td>0.0</td>\n",
       "      <td>0.0</td>\n",
       "      <td>1.0</td>\n",
       "      <td>0.0</td>\n",
       "      <td>0.0</td>\n",
       "      <td>1.0</td>\n",
       "      <td>0.0</td>\n",
       "      <td>0.0</td>\n",
       "      <td>0.0</td>\n",
       "      <td>0.0</td>\n",
       "      <td>0.0</td>\n",
       "      <td>0.750000</td>\n",
       "      <td>0.0</td>\n",
       "      <td>0.0</td>\n",
       "      <td>426.0</td>\n",
       "    </tr>\n",
       "    <tr>\n",
       "      <th>4</th>\n",
       "      <td>416</td>\n",
       "      <td>1</td>\n",
       "      <td>0.387755</td>\n",
       "      <td>1.536180</td>\n",
       "      <td>0.0</td>\n",
       "      <td>0.0</td>\n",
       "      <td>0.0</td>\n",
       "      <td>0.0</td>\n",
       "      <td>0.0</td>\n",
       "      <td>0.0</td>\n",
       "      <td>0.0</td>\n",
       "      <td>0.0</td>\n",
       "      <td>0.0</td>\n",
       "      <td>0.0</td>\n",
       "      <td>0.0</td>\n",
       "      <td>0.0</td>\n",
       "      <td>0.0</td>\n",
       "      <td>0.0</td>\n",
       "      <td>0.0</td>\n",
       "      <td>0.0</td>\n",
       "      <td>0.0</td>\n",
       "      <td>0.0</td>\n",
       "      <td>0.0</td>\n",
       "      <td>0.0</td>\n",
       "      <td>0.0</td>\n",
       "      <td>0.0</td>\n",
       "      <td>0.0</td>\n",
       "      <td>0.0</td>\n",
       "      <td>0.0</td>\n",
       "      <td>0.0</td>\n",
       "      <td>0.0</td>\n",
       "      <td>0.0</td>\n",
       "      <td>0.0</td>\n",
       "      <td>0.000000</td>\n",
       "      <td>0.0</td>\n",
       "      <td>0.0</td>\n",
       "      <td>0.0</td>\n",
       "      <td>0.0</td>\n",
       "      <td>0.0</td>\n",
       "      <td>0.0</td>\n",
       "      <td>0.0</td>\n",
       "      <td>0.0</td>\n",
       "      <td>0.0</td>\n",
       "      <td>0.000000</td>\n",
       "      <td>0.0</td>\n",
       "      <td>0.0</td>\n",
       "      <td>0.0</td>\n",
       "      <td>1.0</td>\n",
       "      <td>0.0</td>\n",
       "      <td>0.0</td>\n",
       "      <td>1.0</td>\n",
       "      <td>0.0</td>\n",
       "      <td>0.0</td>\n",
       "      <td>0.0</td>\n",
       "      <td>0.0</td>\n",
       "      <td>0.0</td>\n",
       "      <td>0.387755</td>\n",
       "      <td>0.0</td>\n",
       "      <td>0.0</td>\n",
       "      <td>416.0</td>\n",
       "    </tr>\n",
       "  </tbody>\n",
       "</table>\n",
       "</div>"
      ],
      "text/plain": [
       "   vocabulary  num_rating  af_avg_pol  af_std_pol  headline_sent  amazing  \\\n",
       "0         416           2    0.886364    1.654414            3.0      0.0   \n",
       "1         605           3    0.716216    2.016957            0.0      0.0   \n",
       "2         471           1    0.865385    1.593603            0.0      0.0   \n",
       "3         426           2    0.750000    1.854050            0.0      0.0   \n",
       "4         416           1    0.387755    1.536180            0.0      0.0   \n",
       "\n",
       "   awesome  bastard  breathtaking  brilliant  catastrophic  damned  ecstatic  \\\n",
       "0      0.0      0.0           0.0        0.0           0.0     0.0       0.0   \n",
       "1      0.0      0.0           0.0        0.0           0.0     0.0       0.0   \n",
       "2      0.0      0.0           0.0        0.0           0.0     0.0       0.0   \n",
       "3      0.0      0.0           0.0        0.0           0.0     0.0       0.0   \n",
       "4      0.0      0.0           0.0        0.0           0.0     0.0       0.0   \n",
       "\n",
       "   exuberant  fabulous  fantastic  fraud  fun  funnier  funny  godsend  \\\n",
       "0        0.0       0.0        0.0    0.0  0.0      0.0    0.0      0.0   \n",
       "1        0.0       0.0        0.0    0.0  0.0      0.0    0.0      0.0   \n",
       "2        0.0       0.0        0.0    0.0  0.0      0.0    0.0      0.0   \n",
       "3        0.0       0.0        0.0    0.0  0.0      0.0    0.0      0.0   \n",
       "4        0.0       0.0        0.0    0.0  0.0      0.0    0.0      0.0   \n",
       "\n",
       "   heavenly  hell  masterpiece  miracle  outstanding  prick  rapturous  \\\n",
       "0       0.0   0.0          0.0      0.0          0.0    0.0        0.0   \n",
       "1       0.0   0.0          0.0      0.0          0.0    0.0        0.0   \n",
       "2       0.0   0.0          0.0      0.0          0.0    0.0        0.0   \n",
       "3       0.0   0.0          0.0      0.0          0.0    0.0        0.0   \n",
       "4       0.0   0.0          0.0      0.0          0.0    0.0        0.0   \n",
       "\n",
       "   rejoice  slut  stunning  superb  supreme  terrific  terrifically  thrilled  \\\n",
       "0      0.0   0.0       0.0     0.0      0.0  0.000000           0.0       0.0   \n",
       "1      0.0   0.0       0.0     0.0      0.0  0.000000           0.0       0.0   \n",
       "2      0.0   0.0       0.0     0.0      0.0  0.000000           0.0       0.0   \n",
       "3      0.0   0.0       0.0     0.0      0.0  0.021714           0.0       0.0   \n",
       "4      0.0   0.0       0.0     0.0      0.0  0.000000           0.0       0.0   \n",
       "\n",
       "   torture  tortured  triumph  triumphant  win  winning  wins  wonderful  \\\n",
       "0      0.0       0.0      0.0         0.0  0.0      0.0   0.0   0.000000   \n",
       "1      0.0       0.0      0.0         0.0  0.0      0.0   0.0   0.018381   \n",
       "2      0.0       0.0      0.0         0.0  0.0      0.0   0.0   0.000000   \n",
       "3      0.0       0.0      0.0         0.0  0.0      0.0   0.0   0.000000   \n",
       "4      0.0       0.0      0.0         0.0  0.0      0.0   0.0   0.000000   \n",
       "\n",
       "   wonderfully  wow  x0_Frank Bruni  x0_Pete Wells  x0_Sam Sifton  \\\n",
       "0          0.0  0.0             0.0            1.0            0.0   \n",
       "1          0.0  0.0             0.0            1.0            0.0   \n",
       "2          0.0  0.0             0.0            1.0            0.0   \n",
       "3          0.0  0.0             0.0            1.0            0.0   \n",
       "4          0.0  0.0             0.0            1.0            0.0   \n",
       "\n",
       "   x0_Brooklyn  x0_Downtown  x0_Midtown  x0_Other  x0_Uptown  \\\n",
       "0          1.0          0.0         0.0       0.0        0.0   \n",
       "1          0.0          0.0         1.0       0.0        0.0   \n",
       "2          0.0          0.0         0.0       1.0        0.0   \n",
       "3          0.0          1.0         0.0       0.0        0.0   \n",
       "4          0.0          1.0         0.0       0.0        0.0   \n",
       "\n",
       "   x0_Frank Bruni_X_af_avg_pol  x0_Sam Sifton_X_af_avg_pol  \\\n",
       "0                          0.0                         0.0   \n",
       "1                          0.0                         0.0   \n",
       "2                          0.0                         0.0   \n",
       "3                          0.0                         0.0   \n",
       "4                          0.0                         0.0   \n",
       "\n",
       "   x0_Pete Wells_X_af_avg_pol  x0_Frank Bruni_X_vocab  x0_Sam Sifton_X_vocab  \\\n",
       "0                    0.886364                     0.0                    0.0   \n",
       "1                    0.716216                     0.0                    0.0   \n",
       "2                    0.865385                     0.0                    0.0   \n",
       "3                    0.750000                     0.0                    0.0   \n",
       "4                    0.387755                     0.0                    0.0   \n",
       "\n",
       "   x0_Pete Wells_X_vocab  \n",
       "0                  416.0  \n",
       "1                  605.0  \n",
       "2                  471.0  \n",
       "3                  426.0  \n",
       "4                  416.0  "
      ]
     },
     "execution_count": 9,
     "metadata": {},
     "output_type": "execute_result"
    }
   ],
   "source": [
    "modeling_df.head()"
   ]
  },
  {
   "cell_type": "code",
   "execution_count": 10,
   "metadata": {},
   "outputs": [],
   "source": [
    "X_m = modeling_df.drop('num_rating', axis=1)\n",
    "y_m = modeling_df['num_rating']"
   ]
  },
  {
   "cell_type": "code",
   "execution_count": 15,
   "metadata": {},
   "outputs": [],
   "source": [
    "X_train_m, X_test_m, y_train_m, y_test_m = train_test_split(X_m, y_m, test_size=0.2, random_state=42)\n"
   ]
  },
  {
   "cell_type": "markdown",
   "metadata": {},
   "source": [
    "## Scaling"
   ]
  },
  {
   "cell_type": "code",
   "execution_count": 73,
   "metadata": {},
   "outputs": [],
   "source": [
    "from sklearn.preprocessing import MinMaxScaler\n",
    "\n",
    "mms = MinMaxScaler()\n",
    "\n",
    "X_train_mms = mms.fit_transform(X_train_m)\n",
    "X_test_mms = mms.transform(X_test_m)"
   ]
  },
  {
   "cell_type": "code",
   "execution_count": 14,
   "metadata": {},
   "outputs": [
    {
     "name": "stderr",
     "output_type": "stream",
     "text": [
      "/Users/samantha/anaconda3/lib/python3.7/site-packages/sklearn/base.py:251: UserWarning: Trying to unpickle estimator MinMaxScaler from version 0.21.2 when using version 0.20.2. This might lead to breaking code or invalid results. Use at your own risk.\n",
      "  UserWarning)\n"
     ]
    }
   ],
   "source": [
    "mms = pickle.load( open(\"min_max_scale.pkl\", \"rb\"))"
   ]
  },
  {
   "cell_type": "code",
   "execution_count": 16,
   "metadata": {},
   "outputs": [],
   "source": [
    "#Use this if importing mms from pickle\n",
    "X_train_mms = mms.transform(X_train_m)\n",
    "X_test_mms = mms.transform(X_test_m)"
   ]
  },
  {
   "cell_type": "markdown",
   "metadata": {},
   "source": [
    "## Logistic Classification"
   ]
  },
  {
   "cell_type": "code",
   "execution_count": 74,
   "metadata": {},
   "outputs": [],
   "source": [
    "from sklearn.linear_model import LogisticRegression"
   ]
  },
  {
   "cell_type": "code",
   "execution_count": 75,
   "metadata": {},
   "outputs": [],
   "source": [
    "lr = LogisticRegression(penalty='l2',C=1.0,fit_intercept=False,random_state=10,solver='lbfgs',multi_class='multinomial',verbose=5,n_jobs=-1)"
   ]
  },
  {
   "cell_type": "code",
   "execution_count": 96,
   "metadata": {},
   "outputs": [
    {
     "name": "stderr",
     "output_type": "stream",
     "text": [
      "[Parallel(n_jobs=-1)]: Using backend LokyBackend with 8 concurrent workers.\n",
      "[Parallel(n_jobs=-1)]: Done   1 out of   1 | elapsed:    0.0s finished\n"
     ]
    },
    {
     "name": "stdout",
     "output_type": "stream",
     "text": [
      "Training accuracy:  0.5670731707317073\n",
      "Testing accuracy:  0.4959349593495935\n"
     ]
    },
    {
     "data": {
      "image/png": "[encoded data removed]",
      "text/plain": [
       "<matplotlib.figure.Figure at 0x7f344a3a1b38>"
      ]
     },
     "metadata": {},
     "output_type": "display_data"
    }
   ],
   "source": [
    "classify_text(lr, X_train_mms, X_test_mms, y_train_m, y_test_m);"
   ]
  },
  {
   "cell_type": "markdown",
   "metadata": {},
   "source": [
    "## Naive Bayes"
   ]
  },
  {
   "cell_type": "code",
   "execution_count": 97,
   "metadata": {},
   "outputs": [],
   "source": [
    "nbm = MultinomialNB()"
   ]
  },
  {
   "cell_type": "code",
   "execution_count": 98,
   "metadata": {},
   "outputs": [
    {
     "name": "stdout",
     "output_type": "stream",
     "text": [
      "Training accuracy:  0.5\n",
      "Testing accuracy:  0.5040650406504065\n"
     ]
    },
    {
     "data": {
      "image/png": "[encoded data removed]",
      "text/plain": [
       "<matplotlib.figure.Figure at 0x7f344a87ecf8>"
      ]
     },
     "metadata": {},
     "output_type": "display_data"
    }
   ],
   "source": [
    "classify_text(nbm, X_train_mms, X_test_mms, y_train_m, y_test_m);"
   ]
  },
  {
   "cell_type": "markdown",
   "metadata": {},
   "source": [
    "## Random Forest"
   ]
  },
  {
   "cell_type": "code",
   "execution_count": 20,
   "metadata": {},
   "outputs": [],
   "source": [
    "from sklearn.ensemble import RandomForestClassifier\n",
    "\n",
    "from sklearn.model_selection import RandomizedSearchCV, GridSearchCV"
   ]
  },
  {
   "cell_type": "code",
   "execution_count": 100,
   "metadata": {},
   "outputs": [],
   "source": [
    "rfcm = RandomForestClassifier()"
   ]
  },
  {
   "cell_type": "code",
   "execution_count": 113,
   "metadata": {},
   "outputs": [
    {
     "name": "stdout",
     "output_type": "stream",
     "text": [
      "Fitting 10 folds for each of 96 candidates, totalling 960 fits\n"
     ]
    },
    {
     "name": "stderr",
     "output_type": "stream",
     "text": [
      "[Parallel(n_jobs=-1)]: Using backend LokyBackend with 8 concurrent workers.\n",
      "[Parallel(n_jobs=-1)]: Done   2 tasks      | elapsed:    1.5s\n",
      "[Parallel(n_jobs=-1)]: Done  56 tasks      | elapsed:    2.3s\n",
      "[Parallel(n_jobs=-1)]: Done 204 tasks      | elapsed:    4.3s\n",
      "[Parallel(n_jobs=-1)]: Done 456 tasks      | elapsed:    7.6s\n",
      "[Parallel(n_jobs=-1)]: Done 780 tasks      | elapsed:   12.2s\n",
      "[Parallel(n_jobs=-1)]: Done 960 out of 960 | elapsed:   14.6s finished\n",
      "/opt/conda/lib/python3.6/site-packages/sklearn/model_selection/_search.py:813: DeprecationWarning: The default of the `iid` parameter will change from True to False in version 0.22 and will be removed in 0.24. This will change numeric results when test-set sizes are unequal.\n",
      "  DeprecationWarning)\n"
     ]
    },
    {
     "data": {
      "text/plain": [
       "GridSearchCV(cv=10, error_score='raise-deprecating',\n",
       "             estimator=RandomForestClassifier(bootstrap=True, class_weight=None,\n",
       "                                              criterion='gini', max_depth=None,\n",
       "                                              max_features='auto',\n",
       "                                              max_leaf_nodes=None,\n",
       "                                              min_impurity_decrease=0.0,\n",
       "                                              min_impurity_split=None,\n",
       "                                              min_samples_leaf=1,\n",
       "                                              min_samples_split=2,\n",
       "                                              min_weight_fraction_leaf=0.0,\n",
       "                                              n_estimators='warn', n_jobs=None,\n",
       "                                              oob_score=False,\n",
       "                                              random_state=None, verbose=0,\n",
       "                                              warm_start=False),\n",
       "             iid='warn', n_jobs=-1,\n",
       "             param_grid={'max_depth': [3, 5, 7, 9],\n",
       "                         'min_samples_leaf': [0.008, 0.01, 0.018, 0.02],\n",
       "                         'n_estimators': [80, 82, 85, 87, 89, 90]},\n",
       "             pre_dispatch='2*n_jobs', refit=True, return_train_score=False,\n",
       "             scoring='accuracy', verbose=5)"
      ]
     },
     "execution_count": 113,
     "metadata": {},
     "output_type": "execute_result"
    }
   ],
   "source": [
    "params_rfc = dict(n_estimators=[80,82,85,87,89,90],max_depth=[3,5,7,9],min_samples_leaf=[.008,.01,.018,.02])\n",
    "\n",
    "gs_rfc = GridSearchCV(rfcm, params_rfc, cv=10,scoring='accuracy', verbose=5, n_jobs=-1)\n",
    "\n",
    "gs_rfc.fit(X_train_mms, y_train_m)"
   ]
  },
  {
   "cell_type": "code",
   "execution_count": 114,
   "metadata": {},
   "outputs": [
    {
     "data": {
      "text/plain": [
       "{'max_depth': 3, 'min_samples_leaf': 0.01, 'n_estimators': 80}"
      ]
     },
     "execution_count": 114,
     "metadata": {},
     "output_type": "execute_result"
    }
   ],
   "source": [
    "gs_rfc.best_params_"
   ]
  },
  {
   "cell_type": "code",
   "execution_count": 115,
   "metadata": {},
   "outputs": [],
   "source": [
    "pred_train_rfc = gs_rfc.best_estimator_.predict(X_train_mms)\n",
    "pred_test_rfc = gs_rfc.best_estimator_.predict(X_test_mms)"
   ]
  },
  {
   "cell_type": "code",
   "execution_count": 116,
   "metadata": {},
   "outputs": [
    {
     "name": "stdout",
     "output_type": "stream",
     "text": [
      "Accuracy train:  0.5182926829268293\n",
      "Accuracy test:  0.5528455284552846\n"
     ]
    }
   ],
   "source": [
    "print('Accuracy train: ', accuracy_score(y_train_m, pred_train_rfc))\n",
    "print('Accuracy test: ', accuracy_score(y_test_m, pred_test_rfc))"
   ]
  },
  {
   "cell_type": "code",
   "execution_count": 123,
   "metadata": {},
   "outputs": [
    {
     "name": "stdout",
     "output_type": "stream",
     "text": [
      "Fitting 10 folds for each of 160 candidates, totalling 1600 fits\n"
     ]
    },
    {
     "name": "stderr",
     "output_type": "stream",
     "text": [
      "[Parallel(n_jobs=-1)]: Using backend LokyBackend with 8 concurrent workers.\n",
      "[Parallel(n_jobs=-1)]: Done   2 tasks      | elapsed:    0.2s\n",
      "[Parallel(n_jobs=-1)]: Done  96 tasks      | elapsed:    1.3s\n",
      "[Parallel(n_jobs=-1)]: Done 276 tasks      | elapsed:    3.5s\n",
      "[Parallel(n_jobs=-1)]: Done 528 tasks      | elapsed:    6.8s\n",
      "[Parallel(n_jobs=-1)]: Done 852 tasks      | elapsed:   11.2s\n",
      "[Parallel(n_jobs=-1)]: Done 1248 tasks      | elapsed:   16.9s\n",
      "[Parallel(n_jobs=-1)]: Done 1600 out of 1600 | elapsed:   22.3s finished\n",
      "/opt/conda/lib/python3.6/site-packages/sklearn/model_selection/_search.py:813: DeprecationWarning: The default of the `iid` parameter will change from True to False in version 0.22 and will be removed in 0.24. This will change numeric results when test-set sizes are unequal.\n",
      "  DeprecationWarning)\n"
     ]
    },
    {
     "data": {
      "text/plain": [
       "GridSearchCV(cv=10, error_score='raise-deprecating',\n",
       "             estimator=RandomForestClassifier(bootstrap=True, class_weight=None,\n",
       "                                              criterion='gini', max_depth=None,\n",
       "                                              max_features='auto',\n",
       "                                              max_leaf_nodes=None,\n",
       "                                              min_impurity_decrease=0.0,\n",
       "                                              min_impurity_split=None,\n",
       "                                              min_samples_leaf=1,\n",
       "                                              min_samples_split=2,\n",
       "                                              min_weight_fraction_leaf=0.0,\n",
       "                                              n_estimators='warn', n_jobs=None,\n",
       "                                              oob_score=False, random_state=1,\n",
       "                                              verbose=0, warm_start=False),\n",
       "             iid='warn', n_jobs=-1,\n",
       "             param_grid={'criterion': ['gini', 'entropy'],\n",
       "                         'max_depth': [3, 5, 7, 9],\n",
       "                         'min_samples_leaf': [0.005, 0.008, 0.01, 0.015],\n",
       "                         'n_estimators': [75, 77, 80, 82, 85]},\n",
       "             pre_dispatch='2*n_jobs', refit=True, return_train_score=False,\n",
       "             scoring='accuracy', verbose=5)"
      ]
     },
     "execution_count": 123,
     "metadata": {},
     "output_type": "execute_result"
    }
   ],
   "source": [
    "params_rfc_2 = dict(criterion = ['gini', 'entropy'], n_estimators=[75,77,80,82,85],max_depth=[3,5,7,9],min_samples_leaf=[.005,.008,.01,.015])\n",
    "\n",
    "gs_rfc_2 = GridSearchCV(estimator = RandomForestClassifier(bootstrap=True, class_weight=None, max_features='auto', random_state=1), \n",
    "                        param_grid = params_rfc_2, cv=10,scoring='accuracy', verbose=5, n_jobs=-1)\n",
    "\n",
    "gs_rfc_2.fit(X_train_mms, y_train_m)"
   ]
  },
  {
   "cell_type": "code",
   "execution_count": 124,
   "metadata": {},
   "outputs": [
    {
     "name": "stdout",
     "output_type": "stream",
     "text": [
      "{'criterion': 'entropy', 'max_depth': 3, 'min_samples_leaf': 0.01, 'n_estimators': 85}\n",
      "Accuracy train:  0.524390243902439\n",
      "Accuracy test:  0.5121951219512195\n"
     ]
    }
   ],
   "source": [
    "print(gs_rfc_2.best_params_)\n",
    "\n",
    "pred_train_rfc_2 = gs_rfc_2.best_estimator_.predict(X_train_mms)\n",
    "pred_test_rfc_2 = gs_rfc_2.best_estimator_.predict(X_test_mms)\n",
    "\n",
    "print('Accuracy train: ', accuracy_score(y_train_m, pred_train_rfc_2))\n",
    "print('Accuracy test: ', accuracy_score(y_test_m, pred_test_rfc_2))"
   ]
  },
  {
   "cell_type": "markdown",
   "metadata": {},
   "source": [
    "## XGBoost"
   ]
  },
  {
   "cell_type": "code",
   "execution_count": 17,
   "metadata": {},
   "outputs": [],
   "source": [
    "import os\n",
    "os.environ['KMP_DUPLICATE_LIB_OK']='True'\n",
    "\n",
    "from xgboost import XGBClassifier\n",
    "import xgboost as xg"
   ]
  },
  {
   "cell_type": "code",
   "execution_count": 18,
   "metadata": {
    "collapsed": true
   },
   "outputs": [
    {
     "name": "stdout",
     "output_type": "stream",
     "text": [
      "[0]\ttrain-merror:0.575206+0.00761287\ttest-merror:0.617996+0.0290931\n",
      "[5]\ttrain-merror:0.490857+0.0126758\ttest-merror:0.577386+0.0579876\n"
     ]
    },
    {
     "name": "stderr",
     "output_type": "stream",
     "text": [
      "/Users/samantha/anaconda3/lib/python3.7/site-packages/xgboost/core.py:587: FutureWarning: Series.base is deprecated and will be removed in a future version\n",
      "  if getattr(data, 'base', None) is not None and \\\n"
     ]
    },
    {
     "name": "stdout",
     "output_type": "stream",
     "text": [
      "[10]\ttrain-merror:0.490363+0.0221245\ttest-merror:0.589425+0.0210251\n",
      "[15]\ttrain-merror:0.486798+0.0179017\ttest-merror:0.579303+0.020163\n",
      "[20]\ttrain-merror:0.487311+0.0157234\ttest-merror:0.583303+0.0270011\n"
     ]
    },
    {
     "data": {
      "text/html": [
       "<div>\n",
       "<style scoped>\n",
       "    .dataframe tbody tr th:only-of-type {\n",
       "        vertical-align: middle;\n",
       "    }\n",
       "\n",
       "    .dataframe tbody tr th {\n",
       "        vertical-align: top;\n",
       "    }\n",
       "\n",
       "    .dataframe thead th {\n",
       "        text-align: right;\n",
       "    }\n",
       "</style>\n",
       "<table border=\"1\" class=\"dataframe\">\n",
       "  <thead>\n",
       "    <tr style=\"text-align: right;\">\n",
       "      <th></th>\n",
       "      <th>train-merror-mean</th>\n",
       "      <th>train-merror-std</th>\n",
       "      <th>test-merror-mean</th>\n",
       "      <th>test-merror-std</th>\n",
       "    </tr>\n",
       "  </thead>\n",
       "  <tbody>\n",
       "    <tr>\n",
       "      <th>0</th>\n",
       "      <td>0.575206</td>\n",
       "      <td>0.007613</td>\n",
       "      <td>0.617996</td>\n",
       "      <td>0.029093</td>\n",
       "    </tr>\n",
       "    <tr>\n",
       "      <th>1</th>\n",
       "      <td>0.536593</td>\n",
       "      <td>0.020416</td>\n",
       "      <td>0.595650</td>\n",
       "      <td>0.045015</td>\n",
       "    </tr>\n",
       "    <tr>\n",
       "      <th>2</th>\n",
       "      <td>0.504566</td>\n",
       "      <td>0.020027</td>\n",
       "      <td>0.550876</td>\n",
       "      <td>0.019119</td>\n",
       "    </tr>\n",
       "  </tbody>\n",
       "</table>\n",
       "</div>"
      ],
      "text/plain": [
       "   train-merror-mean  train-merror-std  test-merror-mean  test-merror-std\n",
       "0           0.575206          0.007613          0.617996         0.029093\n",
       "1           0.536593          0.020416          0.595650         0.045015\n",
       "2           0.504566          0.020027          0.550876         0.019119"
      ]
     },
     "execution_count": 18,
     "metadata": {},
     "output_type": "execute_result"
    }
   ],
   "source": [
    "data_dmatrix = xg.DMatrix(data=X_train_mms,label=y_train_m)\n",
    "\n",
    "params = {\"objective\":\"multi:softmax\",\"num_class\":4,'colsample_bytree': 0.3,'learning_rate': 0.005,\n",
    "                'max_depth': 2, 'alpha': 10}\n",
    "\n",
    "cv_results = xg.cv(dtrain=data_dmatrix, params=params, nfold=5,num_boost_round=500,early_stopping_rounds=20,\n",
    "                   metrics=\"merror\", as_pandas=True, seed=123,verbose_eval=5)\n",
    "cv_results "
   ]
  },
  {
   "cell_type": "code",
   "execution_count": 21,
   "metadata": {},
   "outputs": [
    {
     "name": "stdout",
     "output_type": "stream",
     "text": [
      "Fitting 5 folds for each of 12 candidates, totalling 60 fits\n"
     ]
    },
    {
     "name": "stderr",
     "output_type": "stream",
     "text": [
      "[Parallel(n_jobs=-1)]: Using backend LokyBackend with 4 concurrent workers.\n",
      "[Parallel(n_jobs=-1)]: Done   5 tasks      | elapsed:    4.9s\n",
      "[Parallel(n_jobs=-1)]: Done  10 tasks      | elapsed:    5.7s\n",
      "[Parallel(n_jobs=-1)]: Done  17 tasks      | elapsed:    6.8s\n",
      "[Parallel(n_jobs=-1)]: Done  24 tasks      | elapsed:    7.9s\n",
      "[Parallel(n_jobs=-1)]: Done  33 tasks      | elapsed:    9.9s\n",
      "[Parallel(n_jobs=-1)]: Done  42 tasks      | elapsed:   11.8s\n",
      "[Parallel(n_jobs=-1)]: Done  53 tasks      | elapsed:   14.3s\n",
      "[Parallel(n_jobs=-1)]: Done  60 out of  60 | elapsed:   15.7s remaining:    0.0s\n",
      "[Parallel(n_jobs=-1)]: Done  60 out of  60 | elapsed:   15.7s finished\n"
     ]
    },
    {
     "data": {
      "text/plain": [
       "GridSearchCV(cv=5, error_score='raise-deprecating',\n",
       "       estimator=XGBClassifier(base_score=0.5, booster='gbtree', colsample_bylevel=1,\n",
       "       colsample_bytree=0.3, gamma=0, learning_rate=0.005,\n",
       "       max_delta_step=0, max_depth=3, min_child_weight=1, missing=None,\n",
       "       n_estimators=50, n_jobs=1, nthread=4, num_class=4,\n",
       "       objective='multi:softmax', random_state=0, reg_alpha=0,\n",
       "       reg_lambda=1, scale_pos_weight=1, seed=27, silent=True,\n",
       "       subsample=0.8),\n",
       "       fit_params=None, iid=False, n_jobs=-1,\n",
       "       param_grid={'max_depth': range(3, 10, 2), 'min_child_weight': range(1, 6, 2)},\n",
       "       pre_dispatch='2*n_jobs', refit=True, return_train_score='warn',\n",
       "       scoring='accuracy', verbose=10)"
      ]
     },
     "execution_count": 21,
     "metadata": {},
     "output_type": "execute_result"
    }
   ],
   "source": [
    "param_test1 = {\n",
    " 'max_depth':range(3,10,2),\n",
    " 'min_child_weight':range(1,6,2)\n",
    "}\n",
    "\n",
    "gsearch1 = GridSearchCV(estimator = XGBClassifier(objective='multi:softmax',num_class=4,booster='gbtree',\n",
    "                                    learning_rate=.005,colsample_bytree=.3, n_estimators=50,gamma=0, subsample=0.8, \n",
    "                                    nthread=4, scale_pos_weight=1, seed=27), \n",
    "                        param_grid = param_test1, scoring='accuracy',n_jobs=-1,iid=False, cv=5,verbose=10)\n",
    "gsearch1.fit(X_train_mms,y_train_m)"
   ]
  },
  {
   "cell_type": "code",
   "execution_count": 22,
   "metadata": {},
   "outputs": [
    {
     "data": {
      "text/plain": [
       "({'max_depth': 3, 'min_child_weight': 5}, 0.464950715563877)"
      ]
     },
     "execution_count": 22,
     "metadata": {},
     "output_type": "execute_result"
    }
   ],
   "source": [
    "gsearch1.best_params_, gsearch1.best_score_"
   ]
  },
  {
   "cell_type": "code",
   "execution_count": 23,
   "metadata": {},
   "outputs": [
    {
     "name": "stdout",
     "output_type": "stream",
     "text": [
      "Fitting 5 folds for each of 9 candidates, totalling 45 fits\n"
     ]
    },
    {
     "name": "stderr",
     "output_type": "stream",
     "text": [
      "[Parallel(n_jobs=-1)]: Using backend LokyBackend with 4 concurrent workers.\n",
      "[Parallel(n_jobs=-1)]: Done   5 tasks      | elapsed:    1.0s\n",
      "[Parallel(n_jobs=-1)]: Done  10 tasks      | elapsed:    1.8s\n",
      "[Parallel(n_jobs=-1)]: Done  17 tasks      | elapsed:    3.3s\n",
      "[Parallel(n_jobs=-1)]: Done  24 tasks      | elapsed:    4.3s\n",
      "[Parallel(n_jobs=-1)]: Done  33 tasks      | elapsed:    6.1s\n",
      "[Parallel(n_jobs=-1)]: Done  43 out of  45 | elapsed:    7.8s remaining:    0.4s\n",
      "[Parallel(n_jobs=-1)]: Done  45 out of  45 | elapsed:    7.9s finished\n"
     ]
    },
    {
     "data": {
      "text/plain": [
       "GridSearchCV(cv=5, error_score='raise-deprecating',\n",
       "       estimator=XGBClassifier(base_score=0.5, booster='gbtree', colsample_bylevel=1,\n",
       "       colsample_bytree=0.3, gamma=0, learning_rate=0.005,\n",
       "       max_delta_step=0, max_depth=3, min_child_weight=1, missing=None,\n",
       "       n_estimators=50, n_jobs=1, nthread=4, num_class=4,\n",
       "       objective='multi:softmax', random_state=0, reg_alpha=0,\n",
       "       reg_lambda=1, scale_pos_weight=1, seed=27, silent=True,\n",
       "       subsample=0.8),\n",
       "       fit_params=None, iid=False, n_jobs=-1,\n",
       "       param_grid={'max_depth': [2, 3, 4], 'min_child_weight': [4, 5, 6]},\n",
       "       pre_dispatch='2*n_jobs', refit=True, return_train_score='warn',\n",
       "       scoring='accuracy', verbose=10)"
      ]
     },
     "execution_count": 23,
     "metadata": {},
     "output_type": "execute_result"
    }
   ],
   "source": [
    "param_test2 = {\n",
    " 'max_depth':[2,3,4],\n",
    " 'min_child_weight':[4,5,6]\n",
    "}\n",
    "\n",
    "gsearch2 = GridSearchCV(estimator = XGBClassifier(objective='multi:softmax',num_class=4,booster='gbtree',\n",
    "                                    learning_rate=.005,colsample_bytree=.3, n_estimators=50,gamma=0, subsample=0.8, \n",
    "                                    nthread=4, scale_pos_weight=1, seed=27), \n",
    "                        param_grid = param_test2, scoring='accuracy',n_jobs=-1,iid=False, cv=5,verbose=10)\n",
    "gsearch2.fit(X_train_mms,y_train_m)"
   ]
  },
  {
   "cell_type": "code",
   "execution_count": 24,
   "metadata": {},
   "outputs": [
    {
     "data": {
      "text/plain": [
       "({'max_depth': 2, 'min_child_weight': 5}, 0.4667280193199206)"
      ]
     },
     "execution_count": 24,
     "metadata": {},
     "output_type": "execute_result"
    }
   ],
   "source": [
    "gsearch2.best_params_, gsearch2.best_score_"
   ]
  },
  {
   "cell_type": "code",
   "execution_count": 25,
   "metadata": {},
   "outputs": [
    {
     "name": "stdout",
     "output_type": "stream",
     "text": [
      "Fitting 5 folds for each of 5 candidates, totalling 25 fits\n"
     ]
    },
    {
     "name": "stderr",
     "output_type": "stream",
     "text": [
      "[Parallel(n_jobs=-1)]: Using backend LokyBackend with 4 concurrent workers.\n",
      "[Parallel(n_jobs=-1)]: Done   5 tasks      | elapsed:    1.0s\n",
      "[Parallel(n_jobs=-1)]: Done  10 tasks      | elapsed:    1.5s\n",
      "[Parallel(n_jobs=-1)]: Done  17 tasks      | elapsed:    2.3s\n",
      "[Parallel(n_jobs=-1)]: Done  21 out of  25 | elapsed:    2.8s remaining:    0.5s\n",
      "[Parallel(n_jobs=-1)]: Done  25 out of  25 | elapsed:    3.2s finished\n"
     ]
    },
    {
     "data": {
      "text/plain": [
       "GridSearchCV(cv=5, error_score='raise-deprecating',\n",
       "       estimator=XGBClassifier(base_score=0.5, booster='gbtree', colsample_bylevel=1,\n",
       "       colsample_bytree=0.3, gamma=0, learning_rate=0.005,\n",
       "       max_delta_step=0, max_depth=2, min_child_weight=5, missing=None,\n",
       "       n_estimators=50, n_jobs=1, nthread=4, num_class=4,\n",
       "       objective='multi:softmax', random_state=0, reg_alpha=0,\n",
       "       reg_lambda=1, scale_pos_weight=1, seed=27, silent=True,\n",
       "       subsample=0.8),\n",
       "       fit_params=None, iid=False, n_jobs=-1,\n",
       "       param_grid={'gamma': [0.0, 0.1, 0.2, 0.3, 0.4]},\n",
       "       pre_dispatch='2*n_jobs', refit=True, return_train_score='warn',\n",
       "       scoring='accuracy', verbose=10)"
      ]
     },
     "execution_count": 25,
     "metadata": {},
     "output_type": "execute_result"
    }
   ],
   "source": [
    "param_test3 = {\n",
    " 'gamma':[i/10.0 for i in range(0,5)]\n",
    "}\n",
    "gsearch3 = GridSearchCV(estimator = XGBClassifier(objective='multi:softmax',num_class=4,booster='gbtree',\n",
    "                                    learning_rate=.005,colsample_bytree=.3, n_estimators=50, subsample=0.8, \n",
    "                                    max_depth=2, min_child_weight=5, nthread=4, scale_pos_weight=1, seed=27), \n",
    "                        param_grid = param_test3, scoring='accuracy',n_jobs=-1,iid=False, cv=5,verbose=10)\n",
    "gsearch3.fit(X_train_mms,y_train_m)"
   ]
  },
  {
   "cell_type": "code",
   "execution_count": 26,
   "metadata": {},
   "outputs": [
    {
     "data": {
      "text/plain": [
       "({'gamma': 0.0}, 0.4667280193199206)"
      ]
     },
     "execution_count": 26,
     "metadata": {},
     "output_type": "execute_result"
    }
   ],
   "source": [
    "gsearch3.best_params_, gsearch3.best_score_"
   ]
  },
  {
   "cell_type": "code",
   "execution_count": 29,
   "metadata": {},
   "outputs": [
    {
     "name": "stdout",
     "output_type": "stream",
     "text": [
      "Fitting 5 folds for each of 12 candidates, totalling 60 fits\n"
     ]
    },
    {
     "name": "stderr",
     "output_type": "stream",
     "text": [
      "[Parallel(n_jobs=-1)]: Using backend LokyBackend with 4 concurrent workers.\n",
      "[Parallel(n_jobs=-1)]: Done   5 tasks      | elapsed:    0.8s\n",
      "[Parallel(n_jobs=-1)]: Done  10 tasks      | elapsed:    1.2s\n",
      "[Parallel(n_jobs=-1)]: Done  17 tasks      | elapsed:    2.0s\n",
      "[Parallel(n_jobs=-1)]: Done  24 tasks      | elapsed:    2.9s\n",
      "[Parallel(n_jobs=-1)]: Done  33 tasks      | elapsed:    3.9s\n",
      "[Parallel(n_jobs=-1)]: Done  42 tasks      | elapsed:    4.9s\n",
      "[Parallel(n_jobs=-1)]: Done  53 tasks      | elapsed:    6.1s\n",
      "[Parallel(n_jobs=-1)]: Done  60 out of  60 | elapsed:    6.9s remaining:    0.0s\n",
      "[Parallel(n_jobs=-1)]: Done  60 out of  60 | elapsed:    6.9s finished\n"
     ]
    },
    {
     "data": {
      "text/plain": [
       "GridSearchCV(cv=5, error_score='raise-deprecating',\n",
       "       estimator=XGBClassifier(base_score=0.5, booster='gbtree', colsample_bylevel=1,\n",
       "       colsample_bytree=1, gamma=0, learning_rate=0.005, max_delta_step=0,\n",
       "       max_depth=2, min_child_weight=5, missing=None, n_estimators=50,\n",
       "       n_jobs=1, nthread=4, num_class=4, objective='multi:softmax',\n",
       "       random_state=0, reg_alpha=0, reg_lambda=1, scale_pos_weight=1,\n",
       "       seed=27, silent=True, subsample=1),\n",
       "       fit_params=None, iid=False, n_jobs=-1,\n",
       "       param_grid={'subsample': [0.7, 0.75, 0.8, 0.85], 'colsample_bytree': [0.25, 0.3, 0.35]},\n",
       "       pre_dispatch='2*n_jobs', refit=True, return_train_score='warn',\n",
       "       scoring='accuracy', verbose=10)"
      ]
     },
     "execution_count": 29,
     "metadata": {},
     "output_type": "execute_result"
    }
   ],
   "source": [
    "param_test4 = {\n",
    " 'subsample':[i/100.0 for i in range(70,90,5)],\n",
    " 'colsample_bytree':[i/100.0 for i in range(25,40,5)]\n",
    "}\n",
    "\n",
    "gsearch4 = GridSearchCV(estimator = XGBClassifier(objective='multi:softmax',num_class=4,booster='gbtree',\n",
    "                                    learning_rate=.005, n_estimators=50, max_depth=2, min_child_weight=5, gamma=0, \n",
    "                                    nthread=4, scale_pos_weight=1, seed=27), \n",
    "                        param_grid = param_test4, scoring='accuracy',n_jobs=-1,iid=False, cv=5,verbose=10)\n",
    "gsearch4.fit(X_train_mms,y_train_m)"
   ]
  },
  {
   "cell_type": "code",
   "execution_count": 30,
   "metadata": {},
   "outputs": [
    {
     "data": {
      "text/plain": [
       "({'colsample_bytree': 0.3, 'subsample': 0.85}, 0.46899484394052704)"
      ]
     },
     "execution_count": 30,
     "metadata": {},
     "output_type": "execute_result"
    }
   ],
   "source": [
    "gsearch4.best_params_, gsearch4.best_score_"
   ]
  },
  {
   "cell_type": "code",
   "execution_count": 31,
   "metadata": {},
   "outputs": [
    {
     "name": "stdout",
     "output_type": "stream",
     "text": [
      "Fitting 5 folds for each of 30 candidates, totalling 150 fits\n"
     ]
    },
    {
     "name": "stderr",
     "output_type": "stream",
     "text": [
      "[Parallel(n_jobs=-1)]: Using backend LokyBackend with 4 concurrent workers.\n",
      "[Parallel(n_jobs=-1)]: Done   5 tasks      | elapsed:    1.0s\n",
      "[Parallel(n_jobs=-1)]: Done  10 tasks      | elapsed:    1.5s\n",
      "[Parallel(n_jobs=-1)]: Done  17 tasks      | elapsed:    2.3s\n",
      "[Parallel(n_jobs=-1)]: Done  24 tasks      | elapsed:    2.9s\n",
      "[Parallel(n_jobs=-1)]: Done  33 tasks      | elapsed:    4.1s\n",
      "[Parallel(n_jobs=-1)]: Done  42 tasks      | elapsed:    4.9s\n",
      "[Parallel(n_jobs=-1)]: Done  53 tasks      | elapsed:    6.2s\n",
      "[Parallel(n_jobs=-1)]: Done  64 tasks      | elapsed:    7.4s\n",
      "[Parallel(n_jobs=-1)]: Done  77 tasks      | elapsed:    9.0s\n",
      "[Parallel(n_jobs=-1)]: Done  90 tasks      | elapsed:   10.5s\n",
      "[Parallel(n_jobs=-1)]: Done 105 tasks      | elapsed:   12.1s\n",
      "[Parallel(n_jobs=-1)]: Done 120 tasks      | elapsed:   14.1s\n",
      "[Parallel(n_jobs=-1)]: Done 137 tasks      | elapsed:   16.1s\n",
      "[Parallel(n_jobs=-1)]: Done 150 out of 150 | elapsed:   17.4s finished\n"
     ]
    },
    {
     "data": {
      "text/plain": [
       "GridSearchCV(cv=5, error_score='raise-deprecating',\n",
       "       estimator=XGBClassifier(base_score=0.5, booster='gbtree', colsample_bylevel=1,\n",
       "       colsample_bytree=1, gamma=0, learning_rate=0.005, max_delta_step=0,\n",
       "       max_depth=2, min_child_weight=5, missing=None, n_estimators=50,\n",
       "       n_jobs=1, nthread=4, num_class=4, objective='multi:softmax',\n",
       "       random_state=0, reg_alpha=0, reg_lambda=1, scale_pos_weight=1,\n",
       "       seed=27, silent=True, subsample=1),\n",
       "       fit_params=None, iid=False, n_jobs=-1,\n",
       "       param_grid={'subsample': [0.82, 0.83, 0.84, 0.85, 0.86], 'colsample_bytree': [0.27, 0.28, 0.29, 0.3, 0.31, 0.32]},\n",
       "       pre_dispatch='2*n_jobs', refit=True, return_train_score='warn',\n",
       "       scoring='accuracy', verbose=10)"
      ]
     },
     "execution_count": 31,
     "metadata": {},
     "output_type": "execute_result"
    }
   ],
   "source": [
    "param_test5 = {\n",
    " 'subsample':[i/100.0 for i in range(82,87)],\n",
    " 'colsample_bytree':[i/100.0 for i in range(27,33)]\n",
    "}\n",
    "\n",
    "gsearch5 = GridSearchCV(estimator = XGBClassifier(objective='multi:softmax',num_class=4,booster='gbtree',\n",
    "                                    learning_rate=.005, n_estimators=50, max_depth=2, min_child_weight=5, gamma=0, \n",
    "                                    nthread=4, scale_pos_weight=1, seed=27), \n",
    "                        param_grid = param_test5, scoring='accuracy',n_jobs=-1,iid=False, cv=5,verbose=10)\n",
    "gsearch5.fit(X_train_mms,y_train_m)"
   ]
  },
  {
   "cell_type": "code",
   "execution_count": 32,
   "metadata": {},
   "outputs": [
    {
     "data": {
      "text/plain": [
       "({'colsample_bytree': 0.28, 'subsample': 0.84}, 0.47713791997756483)"
      ]
     },
     "execution_count": 32,
     "metadata": {},
     "output_type": "execute_result"
    }
   ],
   "source": [
    "gsearch5.best_params_, gsearch5.best_score_"
   ]
  },
  {
   "cell_type": "code",
   "execution_count": 39,
   "metadata": {},
   "outputs": [
    {
     "name": "stdout",
     "output_type": "stream",
     "text": [
      "Fitting 5 folds for each of 5 candidates, totalling 25 fits\n"
     ]
    },
    {
     "name": "stderr",
     "output_type": "stream",
     "text": [
      "[Parallel(n_jobs=-1)]: Using backend LokyBackend with 4 concurrent workers.\n",
      "[Parallel(n_jobs=-1)]: Batch computation too fast (0.1644s.) Setting batch_size=2.\n",
      "[Parallel(n_jobs=-1)]: Done   5 tasks      | elapsed:    0.8s\n",
      "[Parallel(n_jobs=-1)]: Done  12 tasks      | elapsed:    1.8s\n",
      "[Parallel(n_jobs=-1)]: Done  18 out of  25 | elapsed:    2.8s remaining:    1.1s\n",
      "[Parallel(n_jobs=-1)]: Done  25 out of  25 | elapsed:    3.1s finished\n"
     ]
    },
    {
     "data": {
      "text/plain": [
       "GridSearchCV(cv=5, error_score='raise-deprecating',\n",
       "       estimator=XGBClassifier(base_score=0.5, booster='gbtree', colsample_bylevel=1,\n",
       "       colsample_bytree=0.28, gamma=0, learning_rate=0.005,\n",
       "       max_delta_step=0, max_depth=2, min_child_weight=5, missing=None,\n",
       "       n_estimators=50, n_jobs=1, nthread=4, num_class=4,\n",
       "       objective='multi:softmax', random_state=0, reg_alpha=0,\n",
       "       reg_lambda=1, scale_pos_weight=1, seed=27, silent=True,\n",
       "       subsample=0.84),\n",
       "       fit_params=None, iid=False, n_jobs=-1,\n",
       "       param_grid={'reg_alpha': [1e-05, 0.01, 0.1, 1, 100]},\n",
       "       pre_dispatch='2*n_jobs', refit=True, return_train_score='warn',\n",
       "       scoring='accuracy', verbose=10)"
      ]
     },
     "execution_count": 39,
     "metadata": {},
     "output_type": "execute_result"
    }
   ],
   "source": [
    "param_test6 = {\n",
    " 'reg_alpha':[1e-5, 1e-2, 0.1, 1, 100]\n",
    "}\n",
    "\n",
    "gsearch6 = GridSearchCV(estimator = XGBClassifier(objective='multi:softmax',num_class=4,booster='gbtree',\n",
    "                                    learning_rate=.005, n_estimators=50,subsample=.84,colsample_bytree=.28,\n",
    "                                    max_depth=2, min_child_weight=5, gamma=0, nthread=4, scale_pos_weight=1, seed=27), \n",
    "                        param_grid = param_test6, scoring='accuracy',n_jobs=-1,iid=False, cv=5,verbose=10)\n",
    "gsearch6.fit(X_train_mms,y_train_m)"
   ]
  },
  {
   "cell_type": "code",
   "execution_count": 40,
   "metadata": {},
   "outputs": [
    {
     "data": {
      "text/plain": [
       "({'reg_alpha': 1}, 0.48713910734645943)"
      ]
     },
     "execution_count": 40,
     "metadata": {},
     "output_type": "execute_result"
    }
   ],
   "source": [
    "gsearch6.best_params_, gsearch6.best_score_"
   ]
  },
  {
   "cell_type": "code",
   "execution_count": 41,
   "metadata": {},
   "outputs": [
    {
     "name": "stdout",
     "output_type": "stream",
     "text": [
      "Fitting 5 folds for each of 4 candidates, totalling 20 fits\n"
     ]
    },
    {
     "name": "stderr",
     "output_type": "stream",
     "text": [
      "[Parallel(n_jobs=-1)]: Using backend LokyBackend with 4 concurrent workers.\n",
      "[Parallel(n_jobs=-1)]: Done   5 tasks      | elapsed:    0.7s\n",
      "[Parallel(n_jobs=-1)]: Done  10 tasks      | elapsed:    1.3s\n",
      "[Parallel(n_jobs=-1)]: Done  16 out of  20 | elapsed:    2.2s remaining:    0.6s\n",
      "[Parallel(n_jobs=-1)]: Done  20 out of  20 | elapsed:    2.4s finished\n"
     ]
    },
    {
     "data": {
      "text/plain": [
       "GridSearchCV(cv=5, error_score='raise-deprecating',\n",
       "       estimator=XGBClassifier(base_score=0.5, booster='gbtree', colsample_bylevel=1,\n",
       "       colsample_bytree=0.28, gamma=0, learning_rate=0.005,\n",
       "       max_delta_step=0, max_depth=2, min_child_weight=5, missing=None,\n",
       "       n_estimators=50, n_jobs=1, nthread=4, num_class=4,\n",
       "       objective='multi:softmax', random_state=0, reg_alpha=0,\n",
       "       reg_lambda=1, scale_pos_weight=1, seed=27, silent=True,\n",
       "       subsample=0.84),\n",
       "       fit_params=None, iid=False, n_jobs=-1,\n",
       "       param_grid={'reg_alpha': [0, 0.5, 1, 1.5]}, pre_dispatch='2*n_jobs',\n",
       "       refit=True, return_train_score='warn', scoring='accuracy',\n",
       "       verbose=10)"
      ]
     },
     "execution_count": 41,
     "metadata": {},
     "output_type": "execute_result"
    }
   ],
   "source": [
    "param_test7 = {\n",
    " 'reg_alpha':[0,.5,1,1.5]\n",
    "}\n",
    "\n",
    "gsearch7 = GridSearchCV(estimator = XGBClassifier(objective='multi:softmax',num_class=4,booster='gbtree',\n",
    "                                    learning_rate=.005, n_estimators=50,subsample=.84,colsample_bytree=.28,\n",
    "                                    max_depth=2, min_child_weight=5, gamma=0, nthread=4, scale_pos_weight=1, seed=27), \n",
    "                        param_grid = param_test7, scoring='accuracy',n_jobs=-1,iid=False, cv=5,verbose=10)\n",
    "gsearch7.fit(X_train_mms,y_train_m)\n"
   ]
  },
  {
   "cell_type": "code",
   "execution_count": 42,
   "metadata": {},
   "outputs": [
    {
     "data": {
      "text/plain": [
       "({'reg_alpha': 1}, 0.48713910734645943)"
      ]
     },
     "execution_count": 42,
     "metadata": {},
     "output_type": "execute_result"
    }
   ],
   "source": [
    "gsearch7.best_params_, gsearch7.best_score_"
   ]
  },
  {
   "cell_type": "code",
   "execution_count": 46,
   "metadata": {},
   "outputs": [
    {
     "name": "stdout",
     "output_type": "stream",
     "text": [
      "Fitting 5 folds for each of 5 candidates, totalling 25 fits\n"
     ]
    },
    {
     "name": "stderr",
     "output_type": "stream",
     "text": [
      "[Parallel(n_jobs=-1)]: Using backend LokyBackend with 4 concurrent workers.\n",
      "[Parallel(n_jobs=-1)]: Done   5 tasks      | elapsed:    0.7s\n",
      "[Parallel(n_jobs=-1)]: Done  10 tasks      | elapsed:    1.7s\n",
      "[Parallel(n_jobs=-1)]: Done  17 tasks      | elapsed:    2.5s\n",
      "[Parallel(n_jobs=-1)]: Done  21 out of  25 | elapsed:    3.0s remaining:    0.6s\n",
      "[Parallel(n_jobs=-1)]: Done  25 out of  25 | elapsed:    3.8s finished\n"
     ]
    },
    {
     "data": {
      "text/plain": [
       "GridSearchCV(cv=5, error_score='raise-deprecating',\n",
       "       estimator=XGBClassifier(base_score=0.5, booster='gbtree', colsample_bylevel=1,\n",
       "       colsample_bytree=0.28, gamma=0, learning_rate=0.005,\n",
       "       max_delta_step=0, max_depth=2, min_child_weight=5, missing=None,\n",
       "       n_estimators=100, n_jobs=1, nthread=4, num_class=4,\n",
       "       objective='multi:softmax', random_state=0, reg_alpha=1,\n",
       "       reg_lambda=1, scale_pos_weight=1, seed=27, silent=True,\n",
       "       subsample=0.84),\n",
       "       fit_params=None, iid=False, n_jobs=-1,\n",
       "       param_grid={'n_estimators': [40, 45, 50, 55, 60]},\n",
       "       pre_dispatch='2*n_jobs', refit=True, return_train_score='warn',\n",
       "       scoring='accuracy', verbose=10)"
      ]
     },
     "execution_count": 46,
     "metadata": {},
     "output_type": "execute_result"
    }
   ],
   "source": [
    "param_test8 = {\n",
    " 'n_estimators':[40,45,50,55,60]\n",
    "}\n",
    "\n",
    "gsearch8 = GridSearchCV(estimator = XGBClassifier(objective='multi:softmax',num_class=4,booster='gbtree',\n",
    "                                    learning_rate=.005, reg_alpha=1,subsample=.84,colsample_bytree=.28,\n",
    "                                    max_depth=2, min_child_weight=5, gamma=0, nthread=4, scale_pos_weight=1, seed=27), \n",
    "                        param_grid = param_test8, scoring='accuracy',n_jobs=-1,iid=False, cv=5,verbose=10)\n",
    "gsearch8.fit(X_train_mms,y_train_m)"
   ]
  },
  {
   "cell_type": "code",
   "execution_count": 47,
   "metadata": {},
   "outputs": [
    {
     "data": {
      "text/plain": [
       "({'n_estimators': 50}, 0.48713910734645943)"
      ]
     },
     "execution_count": 47,
     "metadata": {},
     "output_type": "execute_result"
    }
   ],
   "source": [
    "gsearch8.best_params_, gsearch8.best_score_"
   ]
  },
  {
   "cell_type": "code",
   "execution_count": null,
   "metadata": {},
   "outputs": [],
   "source": []
  }
 ],
 "metadata": {
  "kernelspec": {
   "display_name": "Python 3",
   "language": "python",
   "name": "python3"
  },
  "language_info": {
   "codemirror_mode": {
    "name": "ipython",
    "version": 3
   },
   "file_extension": ".py",
   "mimetype": "text/x-python",
   "name": "python",
   "nbconvert_exporter": "python",
   "pygments_lexer": "ipython3",
   "version": "3.7.2"
  },
  "toc": {
   "base_numbering": 1,
   "nav_menu": {},
   "number_sections": true,
   "sideBar": true,
   "skip_h1_title": false,
   "title_cell": "Table of Contents",
   "title_sidebar": "Contents",
   "toc_cell": false,
   "toc_position": {},
   "toc_section_display": true,
   "toc_window_display": true
  }
 },
 "nbformat": 4,
 "nbformat_minor": 2
}
