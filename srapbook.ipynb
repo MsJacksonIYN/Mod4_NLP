{
 "cells": [
  {
   "cell_type": "code",
   "execution_count": 2,
   "metadata": {},
   "outputs": [],
   "source": [
    "import pandas as pd\n",
    "import numpy as np\n",
    "import matplotlib.pyplot as plt\n",
    "import seaborn as sns\n",
    "import requests\n",
    "from bs4 import BeautifulSoup\n",
    "import re\n",
    "from selenium import webdriver\n",
    "from selenium.webdriver.common.by import By\n",
    "from selenium.webdriver.support.ui import WebDriverWait\n",
    "from selenium.webdriver.support.ui import WebDriverWait as wait\n",
    "from selenium.common.exceptions import TimeoutException, StaleElementReferenceException\n",
    "import time"
   ]
  },
  {
   "cell_type": "code",
   "execution_count": 64,
   "metadata": {},
   "outputs": [],
   "source": [
    "review_url = ['https://www.nytimes.com/1999/08/11/dining/restaurants-a-jewel-box-in-a-town-house.html']"
   ]
  },
  {
   "cell_type": "code",
   "execution_count": 55,
   "metadata": {},
   "outputs": [],
   "source": [
    "review_url_2 = ['https://www.nytimes.com/2010/11/03/dining/reviews/03rest.html']"
   ]
  },
  {
   "cell_type": "code",
   "execution_count": 90,
   "metadata": {},
   "outputs": [],
   "source": [
    "review_url_3 = ['https://www.nytimes.com/2017/01/31/dining/chumleys-review-bar-west-village.html']"
   ]
  },
  {
   "cell_type": "code",
   "execution_count": 91,
   "metadata": {},
   "outputs": [
    {
     "name": "stdout",
     "output_type": "stream",
     "text": [
      "https://www.nytimes.com/2017/01/31/dining/chumleys-review-bar-west-village.html\n",
      "['If you heard that Chumley’s is open again, you were misinformed. The dim, spare, beer-scented hideaway in the West Village is gone, torn down, not coming back. At its old address is a restaurant that has nothing in common with the original except a name, a door, an archway and framed photographs of, and jackets of books by, writers who used to drink there. Most of them wouldn’t be able to afford a cocktail there now, let alone dinner.', 'Chumley’s first quietly and selectively opened its unmarked door, inside a hidden courtyard at the end of an alley, during Prohibition. Flappers, sailors, actors, Wobblies, writers heading for fame and bohemians heading for nowhere ate and drank in its windowless rooms. Simone de Beauvoir, who tumbled into Chumley’s in the 1950s on a tip from Richard Wright, wrote that it was “utterly simple, with its little tables lined against the walls, but it has something so rare in America — atmosphere.”', 'On busy nights in later years, the atmosphere could be like that of a college rathskeller in a state with a low drinking age. But if you caught Chumley’s at the right hour, when there were empty booths and a log burning in the fireplace, it could be a shelter from the city and an ideal embodiment of it at the same time.', 'All this time, the building, almost a century old when Chumley’s opened, was falling apart — slowly at first and then, in 2007, in a landslide of bricks. It was so far gone that it had to be torn down and rebuilt. The work went so slowly that Chumley’s nearly lost its chance to renew its liquor license.', 'Then Alessandro Borgognone, who owns Sushi Nakazawa around the corner, was made a partner in the business; he must have hit the construction crew with a dose of wasabi, because the build-out zoomed along, the liquor license came through just in time, and the restaurant began serving in October.', 'The chef is Victoria Blamey, who has cooked under Paul Liebrandt, Matthew Lightner and Justin Smillie. Her menu has far-flung influences — the old regulars would have taken one look at it and called for another shot — but she doesn’t let the dishes get wispy or abstract. Some of them even look like bar food, sort of. And she loads them with more excitement than you’ll come across in other new restaurants that are getting far more attention.', 'Starting with a warm pretzel and French onion dip, you first notice just how light the pretzel is. It is to the street-cart variety what a hummingbird is to a Butterball turkey. The crust is salt-flecked and rough with toasted onion powder. Orange dots of salmon roe sit on top of the dip, which tastes pure and chemical free — cooked garlic and shallots and onions are stirred into a base of soft cream cheese, cloumage and crème fraîche.', 'Chumley’s beef tartare goes a few places other tartares don’t. Instead of mustard and capers, it takes its sharpness from confit tomatoes and gratings of a sheep’s milk cheese from Catalonia. It’s meant to be spread on a wavy, blistered puff of fried beef tendon. Crunchier and airier than a cracker, the tendon has a very clean flavor and doesn’t soak up the taste of raw steak the way toast does.', 'There is a terrine that would be right at home in one of those casually excellent bistros run by young chefs in Paris. Foie gras and shredded ham hock are pressed between leaves of savoy cabbage; the cross section you get on a vintage china plate is served with a tart, fruity puddle of apple cider reduced to a gastrique. It’s radically simple, and makes something memorable out of ham hocks and cabbage. (To be fair, the foie gras does its part, too.)', 'New York may not need another burger, but any place called Chumley’s definitely does. The one Ms. Blamey has provided is like an erotic poem on the theme of fat.', 'It is a double-decker, both of its patties buried under American cheese and soaked with bone marrow that’s been hit with a blowtorch. Liquid marrow falls from the burger; so do a few dark and crunchy fried shallots and orange blobs of cheese. On the side are very crisp and skinny fries tossed, after their second trip to the deep fryer, in melted dry-aged beef fat.', 'I imagine the burger is pretty great after a few drinks. I ate it while I was as sober as a mechanical pencil, and it was all I could do not to paint my face with grease until I looked like Martin Sheen at the end of “Apocalypse Now.”', 'Any qualms I had about the price, $25, vanished while I was looking around the floor for my napkin. I had also rolled my eyes at first when I saw a $43 potpie on the menu of a former speakeasy. The thing is, it is an amazing potpie.', 'The body of a Dungeness crab is stuffed, all the way out to its spiky corners, with a crab meat stew. Ms. Blamey based it on an abalone dish from Chile, where she grew up, and it gets its kick from fresh ají dulce peppers along with ground Aleppo pepper. The richness that comes from the fatty innards of the crab helps the stew cling like cream to the tender puff pastry crust, which is dotted with sesame seeds.', 'There are two desserts: a scoop of vanilla ice cream with pistachio streusel and parsnip purée (it’s good, I swear), and a gold-foil-wrapped sandwich of ice cream made with Luxardo maraschino cherries pressed between square almond-cocoa cookies that are as black as Oreos.', 'Along with cocktails, Chumley’s drinks menu has a series of variations on the Scotch and soda, a terrific idea. Highballs deserve more attention from restaurants; they’re more refreshing and more amenable to food than more concentrated medicine like the manhattan.', 'Ms. Blamey works in a galley in the back. Across from her confined territory are the restrooms, where you can visit framed slices of the original wood tables. They were deeply carved over the years, and now the names and initials are displayed behind glass like frescoes from Pompeii.', 'Nobody at Chumley’s is likely to take a switchblade to the tables now, not after having to provide credit-card numbers to make a reservation. It’s possible to get a table without one, but you wouldn’t know that from the way the hosts greet new arrivals with one finger poised over an iPad and an expression that says, “Are you on the list?”', 'There is something a little too clubby, too, about the way cards that read RESERVED are placed on the empty tables and in front of unoccupied bar stools, even when the restaurant is winding down for the night. Closing time is midnight now, a concession to neighbors who fought the liquor license.', 'Chumley’s is emphatically worth going to as long as Ms. Blamey remains content to work in that kitchen. What happens after that is anyone’s guess. The reservations policy seems to keep people from just dropping by for a drink, and casual drinking was part of the atmosphere that de Beauvoir liked so much.', 'Now, instead of atmosphere, Chumley’s has décor; the book jackets and photographs are elements in a haunted house attraction featuring the ghosts of Hemingway and Kerouac. The neighbors sleep better, but the neighborhood isn’t as interesting.']\n"
     ]
    }
   ],
   "source": [
    "def parse_urls(urls):\n",
    "    \n",
    "    for review_url in urls:\n",
    "        \n",
    "        time.sleep(1)\n",
    "        print(review_url)\n",
    "\n",
    "        r = requests.get(review_url)\n",
    "        c = r.content\n",
    "\n",
    "        review_soup = BeautifulSoup(c, 'html.parser')\n",
    "        \n",
    "        # Extract review text\n",
    "        article = []\n",
    "        \n",
    "        for p in review_soup.find_all('p', class_='css-18icg9x evys1bk0'):\n",
    "            \n",
    "            article.append(p.get_text())\n",
    "            \n",
    "        ' '.join(article)\n",
    "                \n",
    "        print(article)\n",
    "        \n",
    "parse_urls(review_url_3)"
   ]
  },
  {
   "cell_type": "code",
   "execution_count": null,
   "metadata": {},
   "outputs": [],
   "source": []
  }
 ],
 "metadata": {
  "kernelspec": {
   "display_name": "Python 3",
   "language": "python",
   "name": "python3"
  },
  "language_info": {
   "codemirror_mode": {
    "name": "ipython",
    "version": 3
   },
   "file_extension": ".py",
   "mimetype": "text/x-python",
   "name": "python",
   "nbconvert_exporter": "python",
   "pygments_lexer": "ipython3",
   "version": "3.7.2"
  }
 },
 "nbformat": 4,
 "nbformat_minor": 2
}
